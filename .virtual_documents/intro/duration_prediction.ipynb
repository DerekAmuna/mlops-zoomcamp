import pandas as pd
import numpy as np
import seaborn as sns
import matplotlib.pyplot as plt
from sklearn.feature_extraction import DictVectorizer
from sklearn.linear_model import LinearRegression
from sklearn.metrics import root_mean_squared_error

get_ipython().run_line_magic("matplotlib", " inline")


get_ipython().getoutput("ls")


df = pd.read_parquet('../data/yellow_tripdata_2024-07.parquet')
df


df['tpep_pickup_datetime'] = pd.to_datetime(df['tpep_pickup_datetime'])
df['tpep_dropoff_datetime'] = pd.to_datetime(df['tpep_dropoff_datetime'])

df['duration']= df['tpep_dropoff_datetime'] - df['tpep_pickup_datetime']
df['duration'] = df['duration'].map(lambda x: x.total_seconds()/60)
df.head()


sns.histplot(df['duration'],kde=True)



df['duration'].describe()


df = df[df['duration'] >= 0]
df['duration'].describe(percentiles = [.5,.95,.99])


df = df[(df['duration'] >=1) & (df['duration'] <= 60)] 


categories = ['PULocationID','DOLocationID']
numerics = ['trip_distance']


df[categories].dtypes
df[categories] = df[categories].astype(object)
df[categories].dtypes


prepped = df[categories + numerics].to_dict(orient='records')
prepped


dv = DictVectorizer()
x_train = dv.fit_transform(prepped)


x_train


dv.feature_names_


target = 'duration'
y_train = df[target].values
y_train


lm = LinearRegression()
lm.fit(x_train, y_train)


preds = lm.predict(x_train)


sns.distplot(preds, label='prediction')
sns.distplot(y_train,label='actual')


root_mean_squared_error(y_train,preds)


lm.residuals_



