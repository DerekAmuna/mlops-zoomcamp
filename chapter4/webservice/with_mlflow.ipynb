{
 "cells": [
  {
   "cell_type": "markdown",
   "metadata": {},
   "source": [
    "dont forget to update pipenv with mlflow and the other packages"
   ]
  },
  {
   "cell_type": "code",
   "execution_count": 1,
   "metadata": {},
   "outputs": [],
   "source": [
    "import pandas as pd\n",
    "import numpy as np\n",
    "from sklearn.feature_extraction import DictVectorizer\n",
    "from sklearn.linear_model import LinearRegression, Ridge, Lasso\n",
    "from sklearn.metrics import root_mean_squared_error, r2_score\n",
    "import pickle\n",
    "import mlflow\n",
    "\n",
    "\n",
    "%matplotlib inline"
   ]
  },
  {
   "cell_type": "code",
   "execution_count": 2,
   "metadata": {},
   "outputs": [],
   "source": [
    "df = pd.read_parquet(\"data/yellow_tripdata_2024-08.parquet\")"
   ]
  },
  {
   "cell_type": "code",
   "execution_count": 3,
   "metadata": {},
   "outputs": [],
   "source": [
    "categories = [\"PULocationID\", \"DOLocationID\"]\n",
    "numerics = [\"trip_distance\"]\n",
    "\n",
    "\n",
    "def read_data(filename):\n",
    "    df = pd.read_parquet(filename)\n",
    "    df[\"tpep_pickup_datetime\"] = pd.to_datetime(df[\"tpep_pickup_datetime\"])\n",
    "    df[\"tpep_dropoff_datetime\"] = pd.to_datetime(df[\"tpep_dropoff_datetime\"])\n",
    "\n",
    "    df[\"duration\"] = df[\"tpep_dropoff_datetime\"] - df[\"tpep_pickup_datetime\"]\n",
    "    df[\"duration\"] = df[\"duration\"].map(lambda x: x.total_seconds() / 60)\n",
    "\n",
    "    df = df[(df[\"duration\"] >= 0) & (df[\"duration\"] <= 60)]\n",
    "    df[categories] = df[categories].astype(object)\n",
    "\n",
    "    df[\"tpep_pickup_datetime\"] = df[\"tpep_pickup_datetime\"].astype(int)\n",
    "\n",
    "    prepped = df[categories + numerics + [\"duration\"]].dropna()\n",
    "    return prepped"
   ]
  },
  {
   "cell_type": "code",
   "execution_count": 4,
   "metadata": {},
   "outputs": [
    {
     "data": {
      "text/html": [
       "<div>\n",
       "<style scoped>\n",
       "    .dataframe tbody tr th:only-of-type {\n",
       "        vertical-align: middle;\n",
       "    }\n",
       "\n",
       "    .dataframe tbody tr th {\n",
       "        vertical-align: top;\n",
       "    }\n",
       "\n",
       "    .dataframe thead th {\n",
       "        text-align: right;\n",
       "    }\n",
       "</style>\n",
       "<table border=\"1\" class=\"dataframe\">\n",
       "  <thead>\n",
       "    <tr style=\"text-align: right;\">\n",
       "      <th></th>\n",
       "      <th>PULocationID</th>\n",
       "      <th>DOLocationID</th>\n",
       "      <th>trip_distance</th>\n",
       "      <th>duration</th>\n",
       "    </tr>\n",
       "  </thead>\n",
       "  <tbody>\n",
       "    <tr>\n",
       "      <th>0</th>\n",
       "      <td>138</td>\n",
       "      <td>80</td>\n",
       "      <td>7.40</td>\n",
       "      <td>15.216667</td>\n",
       "    </tr>\n",
       "    <tr>\n",
       "      <th>1</th>\n",
       "      <td>138</td>\n",
       "      <td>239</td>\n",
       "      <td>9.91</td>\n",
       "      <td>21.766667</td>\n",
       "    </tr>\n",
       "    <tr>\n",
       "      <th>2</th>\n",
       "      <td>138</td>\n",
       "      <td>88</td>\n",
       "      <td>13.40</td>\n",
       "      <td>23.883333</td>\n",
       "    </tr>\n",
       "    <tr>\n",
       "      <th>3</th>\n",
       "      <td>209</td>\n",
       "      <td>137</td>\n",
       "      <td>3.90</td>\n",
       "      <td>6.800000</td>\n",
       "    </tr>\n",
       "    <tr>\n",
       "      <th>4</th>\n",
       "      <td>148</td>\n",
       "      <td>144</td>\n",
       "      <td>0.40</td>\n",
       "      <td>3.700000</td>\n",
       "    </tr>\n",
       "  </tbody>\n",
       "</table>\n",
       "</div>"
      ],
      "text/plain": [
       "  PULocationID DOLocationID  trip_distance   duration\n",
       "0          138           80           7.40  15.216667\n",
       "1          138          239           9.91  21.766667\n",
       "2          138           88          13.40  23.883333\n",
       "3          209          137           3.90   6.800000\n",
       "4          148          144           0.40   3.700000"
      ]
     },
     "execution_count": 4,
     "metadata": {},
     "output_type": "execute_result"
    }
   ],
   "source": [
    "df = read_data(\"data/yellow_tripdata_2024-08.parquet\")\n",
    "df.head()"
   ]
  },
  {
   "cell_type": "code",
   "execution_count": 5,
   "metadata": {},
   "outputs": [],
   "source": [
    "dv = DictVectorizer()\n",
    "x_train = dv.fit_transform(df[categories + numerics].to_dict(orient=\"records\"))\n",
    "\n",
    "target = \"duration\"\n",
    "y_train = df[target].values"
   ]
  },
  {
   "cell_type": "code",
   "execution_count": 6,
   "metadata": {},
   "outputs": [],
   "source": [
    "test_data = read_data(\"data/yellow_tripdata_2024-01.parquet\")\n",
    "x_test_dict = test_data[categories + numerics].to_dict(orient=\"records\")\n",
    "x_test = dv.transform(x_test_dict)\n",
    "y_test = test_data[target].values"
   ]
  },
  {
   "cell_type": "code",
   "execution_count": 10,
   "metadata": {},
   "outputs": [
    {
     "name": "stderr",
     "output_type": "stream",
     "text": [
      "2024/11/04 18:49:15 INFO mlflow.tracking.fluent: Experiment with name 'duration-prediction' does not exist. Creating a new experiment.\n",
      "2024/11/04 18:49:16 WARNING mlflow.sklearn: Failed to log training dataset information to MLflow Tracking. Reason: 'numpy.ndarray' object has no attribute 'toarray'\n",
      "2024/11/04 18:49:19 WARNING mlflow.models.model: Model logged without a signature and input example. Please set `input_example` parameter when logging the model to auto infer the model signature.\n"
     ]
    },
    {
     "name": "stdout",
     "output_type": "stream",
     "text": [
      "Run ID: 64b1755f573c4439974d9f5ab58a9a06\n"
     ]
    },
    {
     "name": "stderr",
     "output_type": "stream",
     "text": [
      "2024/11/04 18:49:19 INFO mlflow.tracking._tracking_service.client: 🏃 View run bemused-bass-165 at: http://127.0.0.1:5000/#/experiments/1/runs/64b1755f573c4439974d9f5ab58a9a06.\n",
      "2024/11/04 18:49:19 INFO mlflow.tracking._tracking_service.client: 🧪 View experiment at: http://127.0.0.1:5000/#/experiments/1.\n"
     ]
    },
    {
     "name": "stdout",
     "output_type": "stream",
     "text": [
      "Artifact URI: /Users/dna/mlops-zoomcamp/chapter4/webservice/mlflow_artifacts/1/64b1755f573c4439974d9f5ab58a9a06/artifacts\n"
     ]
    }
   ],
   "source": [
    "import os\n",
    "\n",
    "mlflow.set_tracking_uri(\"http://127.0.0.1:5000/\")\n",
    "mlflow.set_experiment(\"duration-prediction\")\n",
    "\n",
    "with mlflow.start_run() as run:\n",
    "    # Log parameters and train model\n",
    "    mlflow.sklearn.autolog()\n",
    "    lr = LinearRegression()\n",
    "    lr.fit(x_train, y_train)\n",
    "\n",
    "    # Log metrics\n",
    "    y_pred = lr.predict(x_test)\n",
    "    rmse = root_mean_squared_error(y_test, y_pred)\n",
    "    mlflow.log_metric(\"rmse\", rmse)\n",
    "\n",
    "    # Log model and DictVectorizer\n",
    "    mlflow.sklearn.log_model(lr, \"model\")\n",
    "\n",
    "    artifacts_dir = \"mlflow_artifacts\"\n",
    "    os.makedirs(artifacts_dir, exist_ok=True)\n",
    "\n",
    "    dv_path = os.path.join(artifacts_dir, \"dv.bin\")\n",
    "    with open(dv_path, \"wb\") as f_out:\n",
    "        pickle.dump(dv, f_out)\n",
    "\n",
    "    mlflow.log_artifact(dv_path)\n",
    "\n",
    "    print(f\"Run ID: {run.info.run_id}\")"
   ]
  }
 ],
 "metadata": {
  "kernelspec": {
   "display_name": "Python 3",
   "language": "python",
   "name": "python3"
  },
  "language_info": {
   "codemirror_mode": {
    "name": "ipython",
    "version": 3
   },
   "file_extension": ".py",
   "mimetype": "text/x-python",
   "name": "python",
   "nbconvert_exporter": "python",
   "pygments_lexer": "ipython3",
   "version": "3.11.0"
  }
 },
 "nbformat": 4,
 "nbformat_minor": 2
}
