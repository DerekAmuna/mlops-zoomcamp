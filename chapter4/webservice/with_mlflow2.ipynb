{
 "cells": [
  {
   "cell_type": "markdown",
   "metadata": {},
   "source": [
    "dont forget to update pipenv with mlflow and the other packages"
   ]
  },
  {
   "cell_type": "code",
   "execution_count": 13,
   "metadata": {},
   "outputs": [],
   "source": [
    "import pandas as pd\n",
    "import numpy as np\n",
    "from sklearn.feature_extraction import DictVectorizer\n",
    "from sklearn.linear_model import LinearRegression\n",
    "from sklearn.metrics import root_mean_squared_error\n",
    "from sklearn.pipeline import make_pipeline\n",
    "import pickle\n",
    "import mlflow"
   ]
  },
  {
   "cell_type": "code",
   "execution_count": 21,
   "metadata": {},
   "outputs": [],
   "source": [
    "categories = [\"PULocationID\", \"DOLocationID\"]\n",
    "numerics = [\"trip_distance\"]\n",
    "target = [\"duration\"]\n",
    "\n",
    "\n",
    "def read_data(filename):\n",
    "    df = pd.read_parquet(filename)\n",
    "    df[\"tpep_pickup_datetime\"] = pd.to_datetime(df[\"tpep_pickup_datetime\"])\n",
    "    df[\"tpep_dropoff_datetime\"] = pd.to_datetime(df[\"tpep_dropoff_datetime\"])\n",
    "\n",
    "    df[\"duration\"] = df[\"tpep_dropoff_datetime\"] - df[\"tpep_pickup_datetime\"]\n",
    "    df[\"duration\"] = df[\"duration\"].map(lambda x: x.total_seconds() / 60)\n",
    "\n",
    "    df = df[(df[\"duration\"] >= 0) & (df[\"duration\"] <= 60)]\n",
    "    df[categories] = df[categories].astype(object)\n",
    "\n",
    "    df[\"tpep_pickup_datetime\"] = df[\"tpep_pickup_datetime\"].astype(int)\n",
    "\n",
    "    prepped = df[categories + numerics + target].dropna()\n",
    "    return prepped"
   ]
  },
  {
   "cell_type": "code",
   "execution_count": 22,
   "metadata": {},
   "outputs": [],
   "source": [
    "df = read_data(\"data/yellow_tripdata_2024-08.parquet\")\n",
    "x_train = df[categories + numerics].to_dict(orient=\"records\")\n",
    "y_train = df[target].values"
   ]
  },
  {
   "cell_type": "code",
   "execution_count": 26,
   "metadata": {},
   "outputs": [],
   "source": [
    "test_data = read_data(\"data/yellow_tripdata_2024-01.parquet\")\n",
    "x_test = test_data[categories + numerics].to_dict(orient=\"records\")\n",
    "y_test = test_data[target].values"
   ]
  },
  {
   "cell_type": "code",
   "execution_count": 28,
   "metadata": {},
   "outputs": [],
   "source": [
    "train_pipeline = make_pipeline(DictVectorizer(), LinearRegression())"
   ]
  },
  {
   "cell_type": "code",
   "execution_count": 29,
   "metadata": {},
   "outputs": [
    {
     "name": "stderr",
     "output_type": "stream",
     "text": [
      "2024/11/04 19:51:17 WARNING mlflow.sklearn: Unrecognized dataset type <class 'list'>. Dataset logging skipped.\n",
      "2024/11/04 19:51:27 WARNING mlflow.utils.autologging_utils: MLflow autologging encountered a warning: \"/Users/dna/.local/share/virtualenvs/webservice-DYCO___T/lib/python3.11/site-packages/mlflow/types/utils.py:407: UserWarning: Hint: Inferred schema contains integer column(s). Integer columns in Python cannot represent missing values. If your input data contains missing values at inference time, it will be encoded as floats and will cause a schema enforcement error. The best way to avoid this problem is to infer the model schema based on a realistic data sample (training dataset) that includes missing values. Alternatively, you can declare integer columns as doubles (float64) whenever these columns may have missing values. See `Handling Integers With Missing Values <https://www.mlflow.org/docs/latest/models.html#handling-integers-with-missing-values>`_ for more details.\"\n",
      "2024/11/04 19:51:32 WARNING mlflow.sklearn: Unrecognized dataset type <class 'list'>. Dataset logging skipped.\n",
      "2024/11/04 19:51:33 WARNING mlflow.models.model: Model logged without a signature and input example. Please set `input_example` parameter when logging the model to auto infer the model signature.\n",
      "2024/11/04 19:51:33 INFO mlflow.tracking._tracking_service.client: 🏃 View run unique-bee-473 at: http://127.0.0.1:5000/#/experiments/1/runs/3fb7008b16534ce4b61ea373d96ddf42.\n",
      "2024/11/04 19:51:33 INFO mlflow.tracking._tracking_service.client: 🧪 View experiment at: http://127.0.0.1:5000/#/experiments/1.\n"
     ]
    },
    {
     "name": "stdout",
     "output_type": "stream",
     "text": [
      "Run ID: 3fb7008b16534ce4b61ea373d96ddf42\n"
     ]
    }
   ],
   "source": [
    "mlflow.set_tracking_uri(\"http://127.0.0.1:5000/\")\n",
    "mlflow.set_experiment(\"duration-prediction\")\n",
    "\n",
    "with mlflow.start_run() as run:\n",
    "\n",
    "    train_pipeline.fit(x_train, y_train)\n",
    "\n",
    "    # Log metrics\n",
    "    y_pred = train_pipeline.predict(x_test)\n",
    "    rmse = root_mean_squared_error(y_test, y_pred)\n",
    "    mlflow.log_metric(\"rmse\", rmse)\n",
    "\n",
    "    # Log model and DictVectorizer\n",
    "    mlflow.sklearn.log_model(train_pipeline, \"model\")\n",
    "\n",
    "    print(f\"Run ID: {run.info.run_id}\")"
   ]
  }
 ],
 "metadata": {
  "kernelspec": {
   "display_name": "Python 3",
   "language": "python",
   "name": "python3"
  },
  "language_info": {
   "codemirror_mode": {
    "name": "ipython",
    "version": 3
   },
   "file_extension": ".py",
   "mimetype": "text/x-python",
   "name": "python",
   "nbconvert_exporter": "python",
   "pygments_lexer": "ipython3",
   "version": "3.11.0"
  }
 },
 "nbformat": 4,
 "nbformat_minor": 2
}
