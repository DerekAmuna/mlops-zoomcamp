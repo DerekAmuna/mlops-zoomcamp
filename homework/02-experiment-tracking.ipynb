{
 "cells": [
  {
   "cell_type": "markdown",
   "metadata": {},
   "source": [
    "# Q1"
   ]
  },
  {
   "cell_type": "code",
   "execution_count": 2,
   "metadata": {},
   "outputs": [
    {
     "name": "stdout",
     "output_type": "stream",
     "text": [
      "Requirement already satisfied: mlflow in /opt/homebrew/anaconda3/envs/mlops/lib/python3.9/site-packages (2.17.1)\n",
      "Requirement already satisfied: mlflow-skinny==2.17.1 in /opt/homebrew/anaconda3/envs/mlops/lib/python3.9/site-packages (from mlflow) (2.17.1)\n",
      "Requirement already satisfied: Flask<4 in /opt/homebrew/anaconda3/envs/mlops/lib/python3.9/site-packages (from mlflow) (3.0.3)\n",
      "Requirement already satisfied: alembic!=1.10.0,<2 in /opt/homebrew/anaconda3/envs/mlops/lib/python3.9/site-packages (from mlflow) (1.13.3)\n",
      "Requirement already satisfied: docker<8,>=4.0.0 in /opt/homebrew/anaconda3/envs/mlops/lib/python3.9/site-packages (from mlflow) (7.1.0)\n",
      "Requirement already satisfied: graphene<4 in /opt/homebrew/anaconda3/envs/mlops/lib/python3.9/site-packages (from mlflow) (3.4.1)\n",
      "Requirement already satisfied: markdown<4,>=3.3 in /opt/homebrew/anaconda3/envs/mlops/lib/python3.9/site-packages (from mlflow) (3.7)\n",
      "Requirement already satisfied: matplotlib<4 in /opt/homebrew/anaconda3/envs/mlops/lib/python3.9/site-packages (from mlflow) (3.9.2)\n",
      "Requirement already satisfied: numpy<3 in /opt/homebrew/anaconda3/envs/mlops/lib/python3.9/site-packages (from mlflow) (2.0.2)\n",
      "Requirement already satisfied: pandas<3 in /opt/homebrew/anaconda3/envs/mlops/lib/python3.9/site-packages (from mlflow) (2.2.3)\n",
      "Requirement already satisfied: pyarrow<18,>=4.0.0 in /opt/homebrew/anaconda3/envs/mlops/lib/python3.9/site-packages (from mlflow) (17.0.0)\n",
      "Requirement already satisfied: scikit-learn<2 in /opt/homebrew/anaconda3/envs/mlops/lib/python3.9/site-packages (from mlflow) (1.5.2)\n",
      "Requirement already satisfied: scipy<2 in /opt/homebrew/anaconda3/envs/mlops/lib/python3.9/site-packages (from mlflow) (1.13.1)\n",
      "Requirement already satisfied: sqlalchemy<3,>=1.4.0 in /opt/homebrew/anaconda3/envs/mlops/lib/python3.9/site-packages (from mlflow) (2.0.36)\n",
      "Requirement already satisfied: Jinja2<4,>=2.11 in /opt/homebrew/anaconda3/envs/mlops/lib/python3.9/site-packages (from mlflow) (3.1.4)\n",
      "Requirement already satisfied: gunicorn<24 in /opt/homebrew/anaconda3/envs/mlops/lib/python3.9/site-packages (from mlflow) (23.0.0)\n",
      "Requirement already satisfied: cachetools<6,>=5.0.0 in /opt/homebrew/anaconda3/envs/mlops/lib/python3.9/site-packages (from mlflow-skinny==2.17.1->mlflow) (5.5.0)\n",
      "Requirement already satisfied: click<9,>=7.0 in /opt/homebrew/anaconda3/envs/mlops/lib/python3.9/site-packages (from mlflow-skinny==2.17.1->mlflow) (8.1.7)\n",
      "Requirement already satisfied: cloudpickle<4 in /opt/homebrew/anaconda3/envs/mlops/lib/python3.9/site-packages (from mlflow-skinny==2.17.1->mlflow) (3.1.0)\n",
      "Requirement already satisfied: databricks-sdk<1,>=0.20.0 in /opt/homebrew/anaconda3/envs/mlops/lib/python3.9/site-packages (from mlflow-skinny==2.17.1->mlflow) (0.36.0)\n",
      "Requirement already satisfied: gitpython<4,>=3.1.9 in /opt/homebrew/anaconda3/envs/mlops/lib/python3.9/site-packages (from mlflow-skinny==2.17.1->mlflow) (3.1.43)\n",
      "Requirement already satisfied: importlib-metadata!=4.7.0,<9,>=3.7.0 in /opt/homebrew/anaconda3/envs/mlops/lib/python3.9/site-packages (from mlflow-skinny==2.17.1->mlflow) (8.4.0)\n",
      "Requirement already satisfied: opentelemetry-api<3,>=1.9.0 in /opt/homebrew/anaconda3/envs/mlops/lib/python3.9/site-packages (from mlflow-skinny==2.17.1->mlflow) (1.27.0)\n",
      "Requirement already satisfied: opentelemetry-sdk<3,>=1.9.0 in /opt/homebrew/anaconda3/envs/mlops/lib/python3.9/site-packages (from mlflow-skinny==2.17.1->mlflow) (1.27.0)\n",
      "Requirement already satisfied: packaging<25 in /opt/homebrew/anaconda3/envs/mlops/lib/python3.9/site-packages (from mlflow-skinny==2.17.1->mlflow) (24.1)\n",
      "Requirement already satisfied: protobuf<6,>=3.12.0 in /opt/homebrew/anaconda3/envs/mlops/lib/python3.9/site-packages (from mlflow-skinny==2.17.1->mlflow) (5.28.3)\n",
      "Requirement already satisfied: pyyaml<7,>=5.1 in /opt/homebrew/anaconda3/envs/mlops/lib/python3.9/site-packages (from mlflow-skinny==2.17.1->mlflow) (6.0.2)\n",
      "Requirement already satisfied: requests<3,>=2.17.3 in /opt/homebrew/anaconda3/envs/mlops/lib/python3.9/site-packages (from mlflow-skinny==2.17.1->mlflow) (2.32.3)\n",
      "Requirement already satisfied: sqlparse<1,>=0.4.0 in /opt/homebrew/anaconda3/envs/mlops/lib/python3.9/site-packages (from mlflow-skinny==2.17.1->mlflow) (0.5.1)\n",
      "Requirement already satisfied: Mako in /opt/homebrew/anaconda3/envs/mlops/lib/python3.9/site-packages (from alembic!=1.10.0,<2->mlflow) (1.3.6)\n",
      "Requirement already satisfied: typing-extensions>=4 in /opt/homebrew/anaconda3/envs/mlops/lib/python3.9/site-packages (from alembic!=1.10.0,<2->mlflow) (4.12.2)\n",
      "Requirement already satisfied: urllib3>=1.26.0 in /opt/homebrew/anaconda3/envs/mlops/lib/python3.9/site-packages (from docker<8,>=4.0.0->mlflow) (2.2.3)\n",
      "Requirement already satisfied: Werkzeug>=3.0.0 in /opt/homebrew/anaconda3/envs/mlops/lib/python3.9/site-packages (from Flask<4->mlflow) (3.0.6)\n",
      "Requirement already satisfied: itsdangerous>=2.1.2 in /opt/homebrew/anaconda3/envs/mlops/lib/python3.9/site-packages (from Flask<4->mlflow) (2.2.0)\n",
      "Requirement already satisfied: blinker>=1.6.2 in /opt/homebrew/anaconda3/envs/mlops/lib/python3.9/site-packages (from Flask<4->mlflow) (1.8.2)\n",
      "Requirement already satisfied: graphql-core<3.3,>=3.1 in /opt/homebrew/anaconda3/envs/mlops/lib/python3.9/site-packages (from graphene<4->mlflow) (3.2.5)\n",
      "Requirement already satisfied: graphql-relay<3.3,>=3.1 in /opt/homebrew/anaconda3/envs/mlops/lib/python3.9/site-packages (from graphene<4->mlflow) (3.2.0)\n",
      "Requirement already satisfied: python-dateutil<3,>=2.7.0 in /opt/homebrew/anaconda3/envs/mlops/lib/python3.9/site-packages (from graphene<4->mlflow) (2.9.0)\n",
      "Requirement already satisfied: MarkupSafe>=2.0 in /opt/homebrew/anaconda3/envs/mlops/lib/python3.9/site-packages (from Jinja2<4,>=2.11->mlflow) (3.0.2)\n",
      "Requirement already satisfied: contourpy>=1.0.1 in /opt/homebrew/anaconda3/envs/mlops/lib/python3.9/site-packages (from matplotlib<4->mlflow) (1.3.0)\n",
      "Requirement already satisfied: cycler>=0.10 in /opt/homebrew/anaconda3/envs/mlops/lib/python3.9/site-packages (from matplotlib<4->mlflow) (0.12.1)\n",
      "Requirement already satisfied: fonttools>=4.22.0 in /opt/homebrew/anaconda3/envs/mlops/lib/python3.9/site-packages (from matplotlib<4->mlflow) (4.54.1)\n",
      "Requirement already satisfied: kiwisolver>=1.3.1 in /opt/homebrew/anaconda3/envs/mlops/lib/python3.9/site-packages (from matplotlib<4->mlflow) (1.4.7)\n",
      "Requirement already satisfied: pillow>=8 in /opt/homebrew/anaconda3/envs/mlops/lib/python3.9/site-packages (from matplotlib<4->mlflow) (11.0.0)\n",
      "Requirement already satisfied: pyparsing>=2.3.1 in /opt/homebrew/anaconda3/envs/mlops/lib/python3.9/site-packages (from matplotlib<4->mlflow) (3.2.0)\n",
      "Requirement already satisfied: importlib-resources>=3.2.0 in /opt/homebrew/anaconda3/envs/mlops/lib/python3.9/site-packages (from matplotlib<4->mlflow) (6.4.5)\n",
      "Requirement already satisfied: pytz>=2020.1 in /opt/homebrew/anaconda3/envs/mlops/lib/python3.9/site-packages (from pandas<3->mlflow) (2024.2)\n",
      "Requirement already satisfied: tzdata>=2022.7 in /opt/homebrew/anaconda3/envs/mlops/lib/python3.9/site-packages (from pandas<3->mlflow) (2024.2)\n",
      "Requirement already satisfied: joblib>=1.2.0 in /opt/homebrew/anaconda3/envs/mlops/lib/python3.9/site-packages (from scikit-learn<2->mlflow) (1.4.2)\n",
      "Requirement already satisfied: threadpoolctl>=3.1.0 in /opt/homebrew/anaconda3/envs/mlops/lib/python3.9/site-packages (from scikit-learn<2->mlflow) (3.5.0)\n",
      "Requirement already satisfied: google-auth~=2.0 in /opt/homebrew/anaconda3/envs/mlops/lib/python3.9/site-packages (from databricks-sdk<1,>=0.20.0->mlflow-skinny==2.17.1->mlflow) (2.35.0)\n",
      "Requirement already satisfied: gitdb<5,>=4.0.1 in /opt/homebrew/anaconda3/envs/mlops/lib/python3.9/site-packages (from gitpython<4,>=3.1.9->mlflow-skinny==2.17.1->mlflow) (4.0.11)\n",
      "Requirement already satisfied: zipp>=0.5 in /opt/homebrew/anaconda3/envs/mlops/lib/python3.9/site-packages (from importlib-metadata!=4.7.0,<9,>=3.7.0->mlflow-skinny==2.17.1->mlflow) (3.20.2)\n",
      "Requirement already satisfied: deprecated>=1.2.6 in /opt/homebrew/anaconda3/envs/mlops/lib/python3.9/site-packages (from opentelemetry-api<3,>=1.9.0->mlflow-skinny==2.17.1->mlflow) (1.2.14)\n",
      "Requirement already satisfied: opentelemetry-semantic-conventions==0.48b0 in /opt/homebrew/anaconda3/envs/mlops/lib/python3.9/site-packages (from opentelemetry-sdk<3,>=1.9.0->mlflow-skinny==2.17.1->mlflow) (0.48b0)\n",
      "Requirement already satisfied: six>=1.5 in /opt/homebrew/anaconda3/envs/mlops/lib/python3.9/site-packages (from python-dateutil<3,>=2.7.0->graphene<4->mlflow) (1.16.0)\n",
      "Requirement already satisfied: charset-normalizer<4,>=2 in /opt/homebrew/anaconda3/envs/mlops/lib/python3.9/site-packages (from requests<3,>=2.17.3->mlflow-skinny==2.17.1->mlflow) (3.4.0)\n",
      "Requirement already satisfied: idna<4,>=2.5 in /opt/homebrew/anaconda3/envs/mlops/lib/python3.9/site-packages (from requests<3,>=2.17.3->mlflow-skinny==2.17.1->mlflow) (3.10)\n",
      "Requirement already satisfied: certifi>=2017.4.17 in /opt/homebrew/anaconda3/envs/mlops/lib/python3.9/site-packages (from requests<3,>=2.17.3->mlflow-skinny==2.17.1->mlflow) (2024.8.30)\n",
      "Requirement already satisfied: wrapt<2,>=1.10 in /opt/homebrew/anaconda3/envs/mlops/lib/python3.9/site-packages (from deprecated>=1.2.6->opentelemetry-api<3,>=1.9.0->mlflow-skinny==2.17.1->mlflow) (1.16.0)\n",
      "Requirement already satisfied: smmap<6,>=3.0.1 in /opt/homebrew/anaconda3/envs/mlops/lib/python3.9/site-packages (from gitdb<5,>=4.0.1->gitpython<4,>=3.1.9->mlflow-skinny==2.17.1->mlflow) (5.0.1)\n",
      "Requirement already satisfied: pyasn1-modules>=0.2.1 in /opt/homebrew/anaconda3/envs/mlops/lib/python3.9/site-packages (from google-auth~=2.0->databricks-sdk<1,>=0.20.0->mlflow-skinny==2.17.1->mlflow) (0.4.1)\n",
      "Requirement already satisfied: rsa<5,>=3.1.4 in /opt/homebrew/anaconda3/envs/mlops/lib/python3.9/site-packages (from google-auth~=2.0->databricks-sdk<1,>=0.20.0->mlflow-skinny==2.17.1->mlflow) (4.9)\n",
      "Requirement already satisfied: pyasn1<0.7.0,>=0.4.6 in /opt/homebrew/anaconda3/envs/mlops/lib/python3.9/site-packages (from pyasn1-modules>=0.2.1->google-auth~=2.0->databricks-sdk<1,>=0.20.0->mlflow-skinny==2.17.1->mlflow) (0.6.1)\n",
      "Note: you may need to restart the kernel to use updated packages.\n",
      "mlflow, version 2.17.1\n"
     ]
    }
   ],
   "source": [
    "%pip install mlflow"
   ]
  },
  {
   "cell_type": "code",
   "execution_count": 3,
   "metadata": {},
   "outputs": [
    {
     "name": "stdout",
     "output_type": "stream",
     "text": [
      "mlflow, version 2.17.1\n"
     ]
    }
   ],
   "source": [
    "!mlflow --version"
   ]
  },
  {
   "cell_type": "markdown",
   "metadata": {},
   "source": [
    "# Q2"
   ]
  },
  {
   "cell_type": "code",
   "execution_count": 5,
   "metadata": {},
   "outputs": [
    {
     "name": "stdout",
     "output_type": "stream",
     "text": [
      "--2024-10-29 14:07:01--  https://d37ci6vzurychx.cloudfront.net/trip-data/green_tripdata_2023-01.parquet\n",
      "Resolving d37ci6vzurychx.cloudfront.net (d37ci6vzurychx.cloudfront.net)... 3.165.214.111, 3.165.214.155, 3.165.214.160, ...\n",
      "Connecting to d37ci6vzurychx.cloudfront.net (d37ci6vzurychx.cloudfront.net)|3.165.214.111|:443... connected.\n",
      "HTTP request sent, awaiting response... 200 OK\n",
      "Length: 1427002 (1.4M) [binary/octet-stream]\n",
      "Saving to: ‘../data/green_tripdata_2023-01.parquet’\n",
      "\n",
      "green_tripdata_2023 100%[===================>]   1.36M  1.28MB/s    in 1.1s    \n",
      "\n",
      "2024-10-29 14:07:03 (1.28 MB/s) - ‘../data/green_tripdata_2023-01.parquet’ saved [1427002/1427002]\n",
      "\n",
      "--2024-10-29 14:07:04--  https://d37ci6vzurychx.cloudfront.net/trip-data/green_tripdata_2023-02.parquet\n",
      "Resolving d37ci6vzurychx.cloudfront.net (d37ci6vzurychx.cloudfront.net)... 3.165.214.155, 3.165.214.160, 3.165.214.87, ...\n",
      "Connecting to d37ci6vzurychx.cloudfront.net (d37ci6vzurychx.cloudfront.net)|3.165.214.155|:443... connected.\n",
      "HTTP request sent, awaiting response... 200 OK\n",
      "Length: 1533740 (1.5M) [binary/octet-stream]\n",
      "Saving to: ‘../data/green_tripdata_2023-02.parquet’\n",
      "\n",
      "green_tripdata_2023 100%[===================>]   1.46M  1.35MB/s    in 1.1s    \n",
      "\n",
      "2024-10-29 14:07:06 (1.35 MB/s) - ‘../data/green_tripdata_2023-02.parquet’ saved [1533740/1533740]\n",
      "\n",
      "--2024-10-29 14:07:06--  https://d37ci6vzurychx.cloudfront.net/trip-data/green_tripdata_2023-03.parquet\n",
      "Resolving d37ci6vzurychx.cloudfront.net (d37ci6vzurychx.cloudfront.net)... 3.165.214.160, 3.165.214.87, 3.165.214.111, ...\n",
      "Connecting to d37ci6vzurychx.cloudfront.net (d37ci6vzurychx.cloudfront.net)|3.165.214.160|:443... connected.\n",
      "HTTP request sent, awaiting response... 200 OK\n",
      "Length: 1730999 (1.7M) [binary/octet-stream]\n",
      "Saving to: ‘../data/green_tripdata_2023-03.parquet’\n",
      "\n",
      "green_tripdata_2023 100%[===================>]   1.65M  1.83MB/s    in 0.9s    \n",
      "\n",
      "2024-10-29 14:07:07 (1.83 MB/s) - ‘../data/green_tripdata_2023-03.parquet’ saved [1730999/1730999]\n",
      "\n"
     ]
    }
   ],
   "source": [
    "# !wget -P ../data/ https://d37ci6vzurychx.cloudfront.net/trip-data/green_tripdata_2023-01.parquet\n",
    "# !wget -P ../data/ https://d37ci6vzurychx.cloudfront.net/trip-data/green_tripdata_2023-02.parquet\n",
    "# !wget -P ../data/ https://d37ci6vzurychx.cloudfront.net/trip-data/green_tripdata_2023-03.parquet"
   ]
  },
  {
   "cell_type": "code",
   "execution_count": 15,
   "metadata": {},
   "outputs": [],
   "source": [
    "!python preprocess_data.py --raw_data_path ../data/chapter2_homework/ --dest_path ../data/chapter2_homework/processed/"
   ]
  },
  {
   "cell_type": "code",
   "execution_count": 16,
   "metadata": {},
   "outputs": [
    {
     "name": "stdout",
     "output_type": "stream",
     "text": [
      "       4\n"
     ]
    }
   ],
   "source": [
    "!ls ../data/chapter2_homework/processed/ | wc -l"
   ]
  },
  {
   "cell_type": "markdown",
   "metadata": {},
   "source": [
    "# Q3"
   ]
  },
  {
   "cell_type": "code",
   "execution_count": 20,
   "metadata": {},
   "outputs": [
    {
     "name": "stdout",
     "output_type": "stream",
     "text": [
      "2024/10/29 14:39:45 WARNING mlflow.sklearn: Failed to log training dataset information to MLflow Tracking. Reason: 'numpy.ndarray' object has no attribute 'toarray'\n",
      "2024/10/29 14:39:55 INFO mlflow.tracking._tracking_service.client: 🏃 View run rogue-squirrel-700 at: http://127.0.0.1:5000/#/experiments/3/runs/dd4747084ba64800be0899b9b7a0c836.\n",
      "2024/10/29 14:39:55 INFO mlflow.tracking._tracking_service.client: 🧪 View experiment at: http://127.0.0.1:5000/#/experiments/3.\n"
     ]
    }
   ],
   "source": [
    "\n",
    "!python train.py --data_path ../data/chapter2_homework/processed/\n"
   ]
  },
  {
   "cell_type": "code",
   "execution_count": 27,
   "metadata": {},
   "outputs": [],
   "source": [
    "import mlflow\n",
    "from mlflow.tracking import MlflowClient\n",
    "from mlflow.entities import ViewType\n",
    "\n",
    "MLFLOW_TRACKING_URI = \"http://127.0.0.1:5000\"\n",
    "mlflow.set_tracking_uri(MLFLOW_TRACKING_URI)\n",
    "mlflow.set_experiment(\"homework2\")\n",
    "\n",
    "\n",
    "client = MlflowClient(tracking_uri=MLFLOW_TRACKING_URI)\n",
    "\n",
    "runs = client.search_runs(\n",
    "    experiment_ids=\"3\",\n",
    "    filter_string=\"\",\n",
    "    run_view_type=ViewType.ACTIVE_ONLY,\n",
    "    max_results=5,\n",
    "    order_by=[\"metrics.rmse ASC\"],\n",
    ")"
   ]
  },
  {
   "cell_type": "code",
   "execution_count": 30,
   "metadata": {},
   "outputs": [
    {
     "data": {
      "text/plain": [
       "'2'"
      ]
     },
     "execution_count": 30,
     "metadata": {},
     "output_type": "execute_result"
    }
   ],
   "source": [
    "run = runs[0]\n",
    "run.data.params[\"min_samples_split\"]"
   ]
  },
  {
   "cell_type": "markdown",
   "metadata": {},
   "source": [
    "# Q4"
   ]
  },
  {
   "cell_type": "code",
   "execution_count": 35,
   "metadata": {},
   "outputs": [
    {
     "name": "stdout",
     "output_type": "stream",
     "text": [
      "[2024-10-29 14:56:01 +0000] [25260] [INFO] Starting gunicorn 23.0.0\n",
      "[2024-10-29 14:56:01 +0000] [25260] [ERROR] Connection in use: ('127.0.0.1', 5000)\n",
      "[2024-10-29 14:56:01 +0000] [25260] [ERROR] connection to ('127.0.0.1', 5000) failed: [Errno 48] Address already in use\n",
      "[2024-10-29 14:56:02 +0000] [25260] [ERROR] Connection in use: ('127.0.0.1', 5000)\n",
      "[2024-10-29 14:56:02 +0000] [25260] [ERROR] connection to ('127.0.0.1', 5000) failed: [Errno 48] Address already in use\n",
      "[2024-10-29 14:56:03 +0000] [25260] [ERROR] Connection in use: ('127.0.0.1', 5000)\n",
      "[2024-10-29 14:56:03 +0000] [25260] [ERROR] connection to ('127.0.0.1', 5000) failed: [Errno 48] Address already in use\n",
      "[2024-10-29 14:56:04 +0000] [25260] [ERROR] Connection in use: ('127.0.0.1', 5000)\n",
      "[2024-10-29 14:56:04 +0000] [25260] [ERROR] connection to ('127.0.0.1', 5000) failed: [Errno 48] Address already in use\n",
      "[2024-10-29 14:56:05 +0000] [25260] [ERROR] Connection in use: ('127.0.0.1', 5000)\n",
      "[2024-10-29 14:56:05 +0000] [25260] [ERROR] connection to ('127.0.0.1', 5000) failed: [Errno 48] Address already in use\n",
      "[2024-10-29 14:56:06 +0000] [25260] [ERROR] Can't connect to ('127.0.0.1', 5000)\n",
      "Running the mlflow server failed. Please see the logs above for details.\n"
     ]
    }
   ],
   "source": [
    "!mlflow ui --backend-store-uri sqlite:///../mlflow.db --default-artifact-root ../mlartifacts"
   ]
  },
  {
   "cell_type": "markdown",
   "metadata": {},
   "source": [
    "# Q5"
   ]
  },
  {
   "cell_type": "code",
   "execution_count": 58,
   "metadata": {},
   "outputs": [
    {
     "name": "stdout",
     "output_type": "stream",
     "text": [
      "  0%|                                    | 0/15 [00:00<?, ?trial/s, best loss=?]/opt/homebrew/anaconda3/envs/mlops/lib/python3.9/site-packages/sklearn/metrics/_regression.py:492: FutureWarning: 'squared' is deprecated in version 1.4 and will be removed in 1.6. To calculate the root mean squared error, use the function'root_mean_squared_error'.\n",
      "  warnings.warn(\n",
      "\n",
      "2024/10/29 15:28:30 INFO mlflow.tracking._tracking_service.client: 🏃 View run valuable-cod-166 at: http://127.0.0.1:5000/#/experiments/4/runs/cd47d32cc3804a61a6c9e07e0d3ce099.\n",
      "\n",
      "2024/10/29 15:28:30 INFO mlflow.tracking._tracking_service.client: 🧪 View experiment at: http://127.0.0.1:5000/#/experiments/4.\n",
      "\n",
      "  7%|▋          | 1/15 [00:04<01:00,  4.32s/trial, best loss: 5.370086069268862]/opt/homebrew/anaconda3/envs/mlops/lib/python3.9/site-packages/sklearn/metrics/_regression.py:492: FutureWarning: 'squared' is deprecated in version 1.4 and will be removed in 1.6. To calculate the root mean squared error, use the function'root_mean_squared_error'.\n",
      "  warnings.warn(\n",
      "\n",
      "2024/10/29 15:28:31 INFO mlflow.tracking._tracking_service.client: 🏃 View run sedate-skink-574 at: http://127.0.0.1:5000/#/experiments/4/runs/c0dffcf60862408da46f0a10a8d3ff51.\n",
      "\n",
      "2024/10/29 15:28:31 INFO mlflow.tracking._tracking_service.client: 🧪 View experiment at: http://127.0.0.1:5000/#/experiments/4.\n",
      "\n",
      " 13%|█▍         | 2/15 [00:04<00:26,  2.06s/trial, best loss: 5.370086069268862]/opt/homebrew/anaconda3/envs/mlops/lib/python3.9/site-packages/sklearn/metrics/_regression.py:492: FutureWarning: 'squared' is deprecated in version 1.4 and will be removed in 1.6. To calculate the root mean squared error, use the function'root_mean_squared_error'.\n",
      "  warnings.warn(\n",
      "\n",
      "2024/10/29 15:28:31 INFO mlflow.tracking._tracking_service.client: 🏃 View run enthused-snake-60 at: http://127.0.0.1:5000/#/experiments/4/runs/2ca705d84fcc48baae3962bbeb9e72eb.\n",
      "\n",
      "2024/10/29 15:28:31 INFO mlflow.tracking._tracking_service.client: 🧪 View experiment at: http://127.0.0.1:5000/#/experiments/4.\n",
      "\n",
      " 20%|██▏        | 3/15 [00:05<00:15,  1.32s/trial, best loss: 5.370086069268862]/opt/homebrew/anaconda3/envs/mlops/lib/python3.9/site-packages/sklearn/metrics/_regression.py:492: FutureWarning: 'squared' is deprecated in version 1.4 and will be removed in 1.6. To calculate the root mean squared error, use the function'root_mean_squared_error'.\n",
      "  warnings.warn(\n",
      "\n",
      "2024/10/29 15:28:34 INFO mlflow.tracking._tracking_service.client: 🏃 View run redolent-worm-473 at: http://127.0.0.1:5000/#/experiments/4/runs/a7ddb71a8ad847d295afd1dc56c1ac07.\n",
      "\n",
      "2024/10/29 15:28:34 INFO mlflow.tracking._tracking_service.client: 🧪 View experiment at: http://127.0.0.1:5000/#/experiments/4.\n",
      "\n",
      " 27%|██▉        | 4/15 [00:07<00:19,  1.81s/trial, best loss: 5.357490752366866]/opt/homebrew/anaconda3/envs/mlops/lib/python3.9/site-packages/sklearn/metrics/_regression.py:492: FutureWarning: 'squared' is deprecated in version 1.4 and will be removed in 1.6. To calculate the root mean squared error, use the function'root_mean_squared_error'.\n",
      "  warnings.warn(\n",
      "\n",
      "2024/10/29 15:28:36 INFO mlflow.tracking._tracking_service.client: 🏃 View run agreeable-jay-928 at: http://127.0.0.1:5000/#/experiments/4/runs/535e88c6e6ed4de6b2a414733ae4e8ae.\n",
      "\n",
      "2024/10/29 15:28:36 INFO mlflow.tracking._tracking_service.client: 🧪 View experiment at: http://127.0.0.1:5000/#/experiments/4.\n",
      "\n",
      " 33%|███▋       | 5/15 [00:09<00:17,  1.77s/trial, best loss: 5.357490752366866]/opt/homebrew/anaconda3/envs/mlops/lib/python3.9/site-packages/sklearn/metrics/_regression.py:492: FutureWarning: 'squared' is deprecated in version 1.4 and will be removed in 1.6. To calculate the root mean squared error, use the function'root_mean_squared_error'.\n",
      "  warnings.warn(\n",
      "\n",
      "2024/10/29 15:28:41 INFO mlflow.tracking._tracking_service.client: 🏃 View run chill-rook-461 at: http://127.0.0.1:5000/#/experiments/4/runs/666f40d168df4dd3856656a20e18b64a.\n",
      "\n",
      "2024/10/29 15:28:41 INFO mlflow.tracking._tracking_service.client: 🧪 View experiment at: http://127.0.0.1:5000/#/experiments/4.\n",
      "\n",
      " 40%|████▍      | 6/15 [00:14<00:26,  2.89s/trial, best loss: 5.354700855292386]/opt/homebrew/anaconda3/envs/mlops/lib/python3.9/site-packages/sklearn/metrics/_regression.py:492: FutureWarning: 'squared' is deprecated in version 1.4 and will be removed in 1.6. To calculate the root mean squared error, use the function'root_mean_squared_error'.\n",
      "  warnings.warn(\n",
      "\n",
      "2024/10/29 15:28:45 INFO mlflow.tracking._tracking_service.client: 🏃 View run serious-mule-81 at: http://127.0.0.1:5000/#/experiments/4/runs/763bcbc4a8ad4c0195bb2f89fc525fa9.\n",
      "\n",
      "2024/10/29 15:28:45 INFO mlflow.tracking._tracking_service.client: 🧪 View experiment at: http://127.0.0.1:5000/#/experiments/4.\n",
      "\n",
      " 47%|█████▏     | 7/15 [00:19<00:27,  3.49s/trial, best loss: 5.354700855292386]/opt/homebrew/anaconda3/envs/mlops/lib/python3.9/site-packages/sklearn/metrics/_regression.py:492: FutureWarning: 'squared' is deprecated in version 1.4 and will be removed in 1.6. To calculate the root mean squared error, use the function'root_mean_squared_error'.\n",
      "  warnings.warn(\n",
      "\n",
      "2024/10/29 15:28:46 INFO mlflow.tracking._tracking_service.client: 🏃 View run flawless-lark-890 at: http://127.0.0.1:5000/#/experiments/4/runs/5542387c60ee46f4b62fd6a992b07c4f.\n",
      "\n",
      "2024/10/29 15:28:46 INFO mlflow.tracking._tracking_service.client: 🧪 View experiment at: http://127.0.0.1:5000/#/experiments/4.\n",
      "\n",
      " 53%|█████▊     | 8/15 [00:19<00:17,  2.57s/trial, best loss: 5.354700855292386]/opt/homebrew/anaconda3/envs/mlops/lib/python3.9/site-packages/sklearn/metrics/_regression.py:492: FutureWarning: 'squared' is deprecated in version 1.4 and will be removed in 1.6. To calculate the root mean squared error, use the function'root_mean_squared_error'.\n",
      "  warnings.warn(\n",
      "\n",
      "2024/10/29 15:28:49 INFO mlflow.tracking._tracking_service.client: 🏃 View run legendary-duck-545 at: http://127.0.0.1:5000/#/experiments/4/runs/ee22b5eee30b4daea4901202a5657a87.\n",
      "\n",
      "2024/10/29 15:28:49 INFO mlflow.tracking._tracking_service.client: 🧪 View experiment at: http://127.0.0.1:5000/#/experiments/4.\n",
      "\n",
      " 60%|██████▌    | 9/15 [00:22<00:15,  2.65s/trial, best loss: 5.354700855292386]/opt/homebrew/anaconda3/envs/mlops/lib/python3.9/site-packages/sklearn/metrics/_regression.py:492: FutureWarning: 'squared' is deprecated in version 1.4 and will be removed in 1.6. To calculate the root mean squared error, use the function'root_mean_squared_error'.\n",
      "  warnings.warn(\n",
      "\n",
      "2024/10/29 15:28:51 INFO mlflow.tracking._tracking_service.client: 🏃 View run defiant-perch-956 at: http://127.0.0.1:5000/#/experiments/4/runs/096fd8cce8184c1aafc5984084520fe6.\n",
      "\n",
      "2024/10/29 15:28:51 INFO mlflow.tracking._tracking_service.client: 🧪 View experiment at: http://127.0.0.1:5000/#/experiments/4.\n",
      "\n",
      " 67%|██████▋   | 10/15 [00:24<00:12,  2.52s/trial, best loss: 5.354700855292386]/opt/homebrew/anaconda3/envs/mlops/lib/python3.9/site-packages/sklearn/metrics/_regression.py:492: FutureWarning: 'squared' is deprecated in version 1.4 and will be removed in 1.6. To calculate the root mean squared error, use the function'root_mean_squared_error'.\n",
      "  warnings.warn(\n",
      "\n",
      "2024/10/29 15:28:53 INFO mlflow.tracking._tracking_service.client: 🏃 View run classy-gnu-914 at: http://127.0.0.1:5000/#/experiments/4/runs/a607b128a4e94632b99e1e4c714b9da7.\n",
      "\n",
      "2024/10/29 15:28:53 INFO mlflow.tracking._tracking_service.client: 🧪 View experiment at: http://127.0.0.1:5000/#/experiments/4.\n",
      "\n",
      " 73%|███████▎  | 11/15 [00:26<00:09,  2.26s/trial, best loss: 5.335419588556921]/opt/homebrew/anaconda3/envs/mlops/lib/python3.9/site-packages/sklearn/metrics/_regression.py:492: FutureWarning: 'squared' is deprecated in version 1.4 and will be removed in 1.6. To calculate the root mean squared error, use the function'root_mean_squared_error'.\n",
      "  warnings.warn(\n",
      "\n",
      "2024/10/29 15:28:54 INFO mlflow.tracking._tracking_service.client: 🏃 View run bouncy-gnu-95 at: http://127.0.0.1:5000/#/experiments/4/runs/4f1a7b09733d491a8d2c6cee774b4a51.\n",
      "\n",
      "2024/10/29 15:28:54 INFO mlflow.tracking._tracking_service.client: 🧪 View experiment at: http://127.0.0.1:5000/#/experiments/4.\n",
      "\n",
      " 80%|████████  | 12/15 [00:28<00:06,  2.09s/trial, best loss: 5.335419588556921]/opt/homebrew/anaconda3/envs/mlops/lib/python3.9/site-packages/sklearn/metrics/_regression.py:492: FutureWarning: 'squared' is deprecated in version 1.4 and will be removed in 1.6. To calculate the root mean squared error, use the function'root_mean_squared_error'.\n",
      "  warnings.warn(\n",
      "\n",
      "2024/10/29 15:28:55 INFO mlflow.tracking._tracking_service.client: 🏃 View run wistful-grouse-233 at: http://127.0.0.1:5000/#/experiments/4/runs/56d6cfc5633942238bf02d5dfe943c05.\n",
      "\n",
      "2024/10/29 15:28:55 INFO mlflow.tracking._tracking_service.client: 🧪 View experiment at: http://127.0.0.1:5000/#/experiments/4.\n",
      "\n",
      " 87%|████████▋ | 13/15 [00:28<00:03,  1.64s/trial, best loss: 5.335419588556921]/opt/homebrew/anaconda3/envs/mlops/lib/python3.9/site-packages/sklearn/metrics/_regression.py:492: FutureWarning: 'squared' is deprecated in version 1.4 and will be removed in 1.6. To calculate the root mean squared error, use the function'root_mean_squared_error'.\n",
      "  warnings.warn(\n",
      "\n",
      "2024/10/29 15:28:57 INFO mlflow.tracking._tracking_service.client: 🏃 View run able-jay-660 at: http://127.0.0.1:5000/#/experiments/4/runs/135e245507394922a0b25577102ee2df.\n",
      "\n",
      "2024/10/29 15:28:57 INFO mlflow.tracking._tracking_service.client: 🧪 View experiment at: http://127.0.0.1:5000/#/experiments/4.\n",
      "\n",
      " 93%|█████████▎| 14/15 [00:30<00:01,  1.62s/trial, best loss: 5.335419588556921]/opt/homebrew/anaconda3/envs/mlops/lib/python3.9/site-packages/sklearn/metrics/_regression.py:492: FutureWarning: 'squared' is deprecated in version 1.4 and will be removed in 1.6. To calculate the root mean squared error, use the function'root_mean_squared_error'.\n",
      "  warnings.warn(\n",
      "\n",
      "2024/10/29 15:28:59 INFO mlflow.tracking._tracking_service.client: 🏃 View run receptive-lynx-305 at: http://127.0.0.1:5000/#/experiments/4/runs/4936e0c7dbe94793bb2bc13840d38a44.\n",
      "\n",
      "2024/10/29 15:28:59 INFO mlflow.tracking._tracking_service.client: 🧪 View experiment at: http://127.0.0.1:5000/#/experiments/4.\n",
      "\n",
      "100%|██████████| 15/15 [00:32<00:00,  2.19s/trial, best loss: 5.335419588556921]\n"
     ]
    }
   ],
   "source": [
    "!python hpo.py --data_path ../data/chapter2_homework/processed/ --num_trials 15"
   ]
  },
  {
   "cell_type": "code",
   "execution_count": 59,
   "metadata": {},
   "outputs": [],
   "source": [
    "runs = client.search_runs(\n",
    "    experiment_ids=\"4\",\n",
    "    filter_string=\"\",\n",
    "    run_view_type=ViewType.ACTIVE_ONLY,\n",
    "    max_results=5,\n",
    "    order_by=[\"metrics.rmse ASC\"],\n",
    ")"
   ]
  },
  {
   "cell_type": "code",
   "execution_count": 60,
   "metadata": {},
   "outputs": [
    {
     "name": "stdout",
     "output_type": "stream",
     "text": [
      "5.335419588556921\n"
     ]
    }
   ],
   "source": [
    "top_rmse = None\n",
    "for run in runs:\n",
    "    if top_rmse is None or run.data.metrics[\"rmse\"] < top_rmse:\n",
    "        top_rmse = run.data.metrics[\"rmse\"]\n",
    "        top_run = run\n",
    "print(top_rmse)"
   ]
  },
  {
   "cell_type": "markdown",
   "metadata": {},
   "source": [
    "# Q6"
   ]
  },
  {
   "cell_type": "code",
   "execution_count": 61,
   "metadata": {},
   "outputs": [
    {
     "name": "stdout",
     "output_type": "stream",
     "text": [
      "2024/10/29 15:29:11 WARNING mlflow.sklearn: Failed to log training dataset information to MLflow Tracking. Reason: 'numpy.ndarray' object has no attribute 'toarray'\n",
      "/opt/homebrew/anaconda3/envs/mlops/lib/python3.9/site-packages/sklearn/metrics/_regression.py:492: FutureWarning: 'squared' is deprecated in version 1.4 and will be removed in 1.6. To calculate the root mean squared error, use the function'root_mean_squared_error'.\n",
      "  warnings.warn(\n",
      "/opt/homebrew/anaconda3/envs/mlops/lib/python3.9/site-packages/sklearn/metrics/_regression.py:492: FutureWarning: 'squared' is deprecated in version 1.4 and will be removed in 1.6. To calculate the root mean squared error, use the function'root_mean_squared_error'.\n",
      "  warnings.warn(\n",
      "2024/10/29 15:29:18 INFO mlflow.tracking._tracking_service.client: 🏃 View run burly-elk-810 at: http://127.0.0.1:5000/#/experiments/5/runs/2f77407459d541cea9602f38b4f2a447.\n",
      "2024/10/29 15:29:18 INFO mlflow.tracking._tracking_service.client: 🧪 View experiment at: http://127.0.0.1:5000/#/experiments/5.\n",
      "2024/10/29 15:29:18 WARNING mlflow.sklearn: Failed to log training dataset information to MLflow Tracking. Reason: 'numpy.ndarray' object has no attribute 'toarray'\n",
      "/opt/homebrew/anaconda3/envs/mlops/lib/python3.9/site-packages/sklearn/metrics/_regression.py:492: FutureWarning: 'squared' is deprecated in version 1.4 and will be removed in 1.6. To calculate the root mean squared error, use the function'root_mean_squared_error'.\n",
      "  warnings.warn(\n",
      "/opt/homebrew/anaconda3/envs/mlops/lib/python3.9/site-packages/sklearn/metrics/_regression.py:492: FutureWarning: 'squared' is deprecated in version 1.4 and will be removed in 1.6. To calculate the root mean squared error, use the function'root_mean_squared_error'.\n",
      "  warnings.warn(\n",
      "2024/10/29 15:29:24 INFO mlflow.tracking._tracking_service.client: 🏃 View run adorable-cod-465 at: http://127.0.0.1:5000/#/experiments/5/runs/bd493e2bcc6646ea987eb63ee6ad302a.\n",
      "2024/10/29 15:29:24 INFO mlflow.tracking._tracking_service.client: 🧪 View experiment at: http://127.0.0.1:5000/#/experiments/5.\n",
      "2024/10/29 15:29:24 WARNING mlflow.sklearn: Failed to log training dataset information to MLflow Tracking. Reason: 'numpy.ndarray' object has no attribute 'toarray'\n",
      "/opt/homebrew/anaconda3/envs/mlops/lib/python3.9/site-packages/sklearn/metrics/_regression.py:492: FutureWarning: 'squared' is deprecated in version 1.4 and will be removed in 1.6. To calculate the root mean squared error, use the function'root_mean_squared_error'.\n",
      "  warnings.warn(\n",
      "/opt/homebrew/anaconda3/envs/mlops/lib/python3.9/site-packages/sklearn/metrics/_regression.py:492: FutureWarning: 'squared' is deprecated in version 1.4 and will be removed in 1.6. To calculate the root mean squared error, use the function'root_mean_squared_error'.\n",
      "  warnings.warn(\n",
      "2024/10/29 15:29:33 INFO mlflow.tracking._tracking_service.client: 🏃 View run serious-zebra-410 at: http://127.0.0.1:5000/#/experiments/5/runs/03791878ec324bc3bf0cbcf1a0eb5ab2.\n",
      "2024/10/29 15:29:33 INFO mlflow.tracking._tracking_service.client: 🧪 View experiment at: http://127.0.0.1:5000/#/experiments/5.\n",
      "2024/10/29 15:29:33 WARNING mlflow.sklearn: Failed to log training dataset information to MLflow Tracking. Reason: 'numpy.ndarray' object has no attribute 'toarray'\n",
      "/opt/homebrew/anaconda3/envs/mlops/lib/python3.9/site-packages/sklearn/metrics/_regression.py:492: FutureWarning: 'squared' is deprecated in version 1.4 and will be removed in 1.6. To calculate the root mean squared error, use the function'root_mean_squared_error'.\n",
      "  warnings.warn(\n",
      "/opt/homebrew/anaconda3/envs/mlops/lib/python3.9/site-packages/sklearn/metrics/_regression.py:492: FutureWarning: 'squared' is deprecated in version 1.4 and will be removed in 1.6. To calculate the root mean squared error, use the function'root_mean_squared_error'.\n",
      "  warnings.warn(\n",
      "2024/10/29 15:29:42 INFO mlflow.tracking._tracking_service.client: 🏃 View run delicate-tern-802 at: http://127.0.0.1:5000/#/experiments/5/runs/12ac4327ba344f78b5ee2756478a6fb2.\n",
      "2024/10/29 15:29:42 INFO mlflow.tracking._tracking_service.client: 🧪 View experiment at: http://127.0.0.1:5000/#/experiments/5.\n",
      "2024/10/29 15:29:43 WARNING mlflow.sklearn: Failed to log training dataset information to MLflow Tracking. Reason: 'numpy.ndarray' object has no attribute 'toarray'\n",
      "/opt/homebrew/anaconda3/envs/mlops/lib/python3.9/site-packages/sklearn/metrics/_regression.py:492: FutureWarning: 'squared' is deprecated in version 1.4 and will be removed in 1.6. To calculate the root mean squared error, use the function'root_mean_squared_error'.\n",
      "  warnings.warn(\n",
      "/opt/homebrew/anaconda3/envs/mlops/lib/python3.9/site-packages/sklearn/metrics/_regression.py:492: FutureWarning: 'squared' is deprecated in version 1.4 and will be removed in 1.6. To calculate the root mean squared error, use the function'root_mean_squared_error'.\n",
      "  warnings.warn(\n",
      "2024/10/29 15:29:49 INFO mlflow.tracking._tracking_service.client: 🏃 View run auspicious-calf-322 at: http://127.0.0.1:5000/#/experiments/5/runs/c2b8f828000241d58161f08b03c991f2.\n",
      "2024/10/29 15:29:49 INFO mlflow.tracking._tracking_service.client: 🧪 View experiment at: http://127.0.0.1:5000/#/experiments/5.\n",
      "Successfully registered model 'best_model'.\n",
      "2024/10/29 15:29:49 INFO mlflow.store.model_registry.abstract_store: Waiting up to 300 seconds for model version to finish creation. Model name: best_model, version 1\n",
      "Created version '1' of model 'best_model'.\n"
     ]
    }
   ],
   "source": [
    "!python register_model.py --data_path ../data/chapter2_homework/processed/"
   ]
  },
  {
   "cell_type": "code",
   "execution_count": 63,
   "metadata": {},
   "outputs": [
    {
     "data": {
      "text/plain": [
       "5.5921322796760755"
      ]
     },
     "execution_count": 63,
     "metadata": {},
     "output_type": "execute_result"
    }
   ],
   "source": [
    "runs = client.search_runs(\n",
    "    experiment_ids=\"5\",\n",
    "    filter_string=\"\",\n",
    "    run_view_type=ViewType.ACTIVE_ONLY,\n",
    "    max_results=1,\n",
    "    order_by=[\"metrics.rmse ASC\"],\n",
    ")\n",
    "run = runs[0]\n",
    "run.data.metrics[\"test_rmse\"]"
   ]
  }
 ],
 "metadata": {
  "kernelspec": {
   "display_name": "mlops",
   "language": "python",
   "name": "python3"
  },
  "language_info": {
   "codemirror_mode": {
    "name": "ipython",
    "version": 3
   },
   "file_extension": ".py",
   "mimetype": "text/x-python",
   "name": "python",
   "nbconvert_exporter": "python",
   "pygments_lexer": "ipython3",
   "version": "3.9.20"
  }
 },
 "nbformat": 4,
 "nbformat_minor": 2
}
