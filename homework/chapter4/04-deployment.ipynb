{
 "cells": [
  {
   "cell_type": "markdown",
   "metadata": {},
   "source": [
    "# Q1\n"
   ]
  },
  {
   "cell_type": "markdown",
   "metadata": {},
   "source": []
  },
  {
   "cell_type": "markdown",
   "metadata": {},
   "source": [
    "# Q2"
   ]
  },
  {
   "cell_type": "code",
   "execution_count": 1,
   "metadata": {},
   "outputs": [
    {
     "name": "stdout",
     "output_type": "stream",
     "text": [
      "-rw-r--r--@ 1 dna  staff    59M Nov  5 11:49 /Users/dna/mlops-zoomcamp/homework/chapter4/predictions_2023-03.parquet\n"
     ]
    }
   ],
   "source": [
    "ls -lh ~/mlops-zoomcamp/homework/chapter4/predictions_2023-03.parquet \n"
   ]
  },
  {
   "cell_type": "markdown",
   "metadata": {},
   "source": [
    "# Q3"
   ]
  },
  {
   "cell_type": "code",
   "execution_count": 2,
   "metadata": {},
   "outputs": [
    {
     "name": "stdout",
     "output_type": "stream",
     "text": [
      "[NbConvertApp] Converting notebook starter.ipynb to script\n",
      "[NbConvertApp] Writing 1361 bytes to starter.py\n"
     ]
    }
   ],
   "source": [
    "! jupyter nbconvert --to script starter.ipynb"
   ]
  },
  {
   "cell_type": "markdown",
   "metadata": {},
   "source": [
    "# Q4"
   ]
  },
  {
   "cell_type": "code",
   "execution_count": 4,
   "metadata": {},
   "outputs": [
    {
     "name": "stdout",
     "output_type": "stream",
     "text": [
      "\u001b[32mCourtesy Notice\u001b[0m:\n",
      "Pipenv found itself running within a virtual environment,  so it will \n",
      "automatically use that environment, instead of  creating its own for any \n",
      "project. You can set\n",
      "\u001b[1;33mPIPENV_IGNORE_VIRTUALENVS\u001b[0m\u001b[1m=\u001b[0m\u001b[1;36m1\u001b[0m to force pipenv to ignore that environment and \n",
      "create  its own instead.\n",
      "You can set \u001b[1;33mPIPENV_VERBOSITY\u001b[0m\u001b[1m=\u001b[0m\u001b[1;36m-1\u001b[0m to suppress this warning.\n",
      "To activate this project's virtualenv, run \u001b[33mpipenv shell\u001b[0m.\n",
      "Alternatively, run a command inside the virtualenv with \u001b[33mpipenv run\u001b[0m.\n",
      "\u001b[1;32mInstalling scikit-learn==1.5.2...\u001b[0m\n",
      "✔ Installation Succeeded\n",
      "\u001b[1;32mInstalling mlflow...\u001b[0m\n",
      "✔ Installation Succeeded\n",
      "\u001b[1;32mInstalling pyarrow...\u001b[0m\n",
      "✔ Installation Succeeded\n",
      "To activate this project's virtualenv, run \u001b[33mpipenv shell\u001b[0m.\n",
      "Alternatively, run a command inside the virtualenv with \u001b[33mpipenv run\u001b[0m.\n",
      "\u001b[1mInstalling dependencies from Pipfile.lock \u001b[0m\u001b[1;39m(51d3e4)...\u001b[0m\n",
      "\u001b[32mAll dependencies are now up-to-date!\u001b[0m\n",
      "\u001b[1;32mUpgrading\u001b[0m scikit-\u001b[33mlearn\u001b[0m==\u001b[1;36m1.5\u001b[0m.\u001b[1;36m2\u001b[0m, mlflow, pyarrow in \u001b[39m dependencies.\u001b[0m\n",
      "\u001b[?25lBuilding requirements...\n",
      "\u001b[2KResolving dependencies....\n",
      "\u001b[2K✔ Success! Locking packages...\n",
      "\u001b[2K\u001b[32m⠸\u001b[0m Locking packages...\n",
      "\u001b[1A\u001b[2K\u001b[?25lBuilding requirements...\n",
      "\u001b[2KResolving dependencies....\n",
      "\u001b[2K✔ Success! Locking packages...\n",
      "\u001b[2K\u001b[32m⠇\u001b[0m Locking packages...\n",
      "\u001b[1A\u001b[2KTo activate this project's virtualenv, run \u001b[33mpipenv shell\u001b[0m.\n",
      "Alternatively, run a command inside the virtualenv with \u001b[33mpipenv run\u001b[0m.\n",
      "\u001b[1mInstalling dependencies from Pipfile.lock \u001b[0m\u001b[1;39m(2026ed)...\u001b[0m\n",
      "\u001b[32mAll dependencies are now up-to-date!\u001b[0m\n",
      "\u001b[1mInstalling dependencies from Pipfile.lock \u001b[0m\u001b[1;39m(2026ed)...\u001b[0m\n"
     ]
    }
   ],
   "source": [
    "!pipenv install scikit-learn==1.5.2 mlflow pyarrow --python 3.11"
   ]
  },
  {
   "cell_type": "markdown",
   "metadata": {},
   "source": [
    "first hash"
   ]
  },
  {
   "cell_type": "markdown",
   "metadata": {},
   "source": [
    "\"sha256:03b6158efa3faaf1feea3faa884c840ebd61b6484167c711548fce208ea09445\""
   ]
  },
  {
   "cell_type": "markdown",
   "metadata": {},
   "source": [
    "# Q5"
   ]
  },
  {
   "cell_type": "code",
   "execution_count": 12,
   "metadata": {},
   "outputs": [
    {
     "name": "stdout",
     "output_type": "stream",
     "text": [
      "mean: 20.969270786473132\n",
      "std: 1.3855583347321954e-13\n"
     ]
    }
   ],
   "source": [
    "!python3 starter.py 2023 04"
   ]
  },
  {
   "cell_type": "markdown",
   "metadata": {},
   "source": [
    "# Q6"
   ]
  },
  {
   "cell_type": "code",
   "execution_count": null,
   "metadata": {},
   "outputs": [],
   "source": [
    "!docker build -t dockerfile .  \n",
    "!docker run -it --rm dockerfile"
   ]
  }
 ],
 "metadata": {
  "kernelspec": {
   "display_name": "webservice-DYCO___T",
   "language": "python",
   "name": "python3"
  },
  "language_info": {
   "codemirror_mode": {
    "name": "ipython",
    "version": 3
   },
   "file_extension": ".py",
   "mimetype": "text/x-python",
   "name": "python",
   "nbconvert_exporter": "python",
   "pygments_lexer": "ipython3",
   "version": "3.11.0"
  }
 },
 "nbformat": 4,
 "nbformat_minor": 2
}
