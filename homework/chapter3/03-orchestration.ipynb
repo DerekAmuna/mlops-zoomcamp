{
 "cells": [
  {
   "cell_type": "code",
   "execution_count": 1,
   "metadata": {},
   "outputs": [],
   "source": [
    "# Q1"
   ]
  },
  {
   "cell_type": "code",
   "execution_count": 2,
   "metadata": {},
   "outputs": [
    {
     "name": "stdout",
     "output_type": "stream",
     "text": [
      "\u001b[33mWARN\u001b[0m[0000] The \"PYTHONPATH\" variable is not set. Defaulting to a blank string. \n",
      "\u001b[33mWARN\u001b[0m[0000] The \"PYTHONPATH\" variable is not set. Defaulting to a blank string. \n",
      "\u001b[1A\u001b[1B\u001b[0G\u001b[?25l[+] Running 2/0\n",
      " \u001b[32m✔\u001b[0m Container mlops-mage-magic-database-1  \u001b[32mRunning\u001b[0m                          \u001b[34m0.0s \u001b[0m\n",
      " \u001b[32m✔\u001b[0m Container mlops-mage-magic-platform-1  \u001b[32mRunning\u001b[0m                          \u001b[34m0.0s \u001b[0m\n",
      "\u001b[?25hAttaching to magic-database-1, magic-platform-1\n",
      "\u001b[0G\u001b7\u001b[1B\u001b[2K\u001b[1B\u001b[2K\u001b[1B\u001b[2K\u001b[1B\u001b[2K\u001b[1B\u001b[2K\u001b[1B\u001b[2K\u001b[1B\u001b[2K\u001b[1B\u001b[2K\u001b[1B\u001b[2K\u001b[1B\u001b[2K\u001b[1B\u001b[2K\u001b[1B\u001b[2K\u001b[1B\u001b[2K\u001b[1B\u001b[2K\u001b[1B\u001b[2K\u001b[1B\u001b[2K\u001b[1B\u001b[2K\u001b[1B\u001b[2K\u001b[1B\u001b[2K\u001b[1B\u001b[2K\u001b[1B\u001b[2K\u001b[1B\u001b[2K\u001b[1B\u001b[2K\u001b[1B\u001b[2K\u001b8\u001b[33mmagic-platform-1  | \u001b[0m[Process 1932] Worker pool size: 1\n",
      "\u001b[0G\u001b7\u001b[1B\u001b[2K\u001b[1B\u001b[2K\u001b[1B\u001b[2K\u001b[1B\u001b[2K\u001b[1B\u001b[2K\u001b[1B\u001b[2K\u001b[1B\u001b[2K\u001b[1B\u001b[2K\u001b[1B\u001b[2K\u001b[1B\u001b[2K\u001b[1B\u001b[2K\u001b[1B\u001b[2K\u001b[1B\u001b[2K\u001b[1B\u001b[2K\u001b[1B\u001b[2K\u001b[1B\u001b[2K\u001b[1B\u001b[2K\u001b[1B\u001b[2K\u001b[1B\u001b[2K\u001b[1B\u001b[2K\u001b[1B\u001b[2K\u001b[1B\u001b[2K\u001b[1B\u001b[2K\u001b[1B\u001b[2K\u001b8\u001b[2K\n",
      "\u001b[0G\u001b[2K\n",
      "\u001b[0G\u001b[2A\u001b[0G\u001b7\u001b[24;0H\u001b[2K\u001b[1;38;2;0;0;0;48;2;255;255;255mv\u001b[0m\u001b[2m View in Docker Desktop\u001b[0m\u001b[2m   \u001b[0m\u001b[1;38;2;0;0;0;48;2;255;255;255mo\u001b[0m\u001b[2m View Config\u001b[0m\u001b[2m   \u001b[0m\u001b[1;38;2;0;0;0;48;2;255;255;255mw\u001b[0m\u001b[2m Enable Watch\u001b[0m\u001b[0G\u001b8\u001b[0G\u001b7\u001b[1B\u001b[2K\u001b[1B\u001b[2K\u001b[1B\u001b[2K\u001b[1B\u001b[2K\u001b[1B\u001b[2K\u001b[1B\u001b[2K\u001b[1B\u001b[2K\u001b[1B\u001b[2K\u001b[1B\u001b[2K\u001b[1B\u001b[2K\u001b[1B\u001b[2K\u001b[1B\u001b[2K\u001b[1B\u001b[2K\u001b[1B\u001b[2K\u001b[1B\u001b[2K\u001b[1B\u001b[2K\u001b[1B\u001b[2K\u001b[1B\u001b[2K\u001b[1B\u001b[2K\u001b[1B\u001b[2K\u001b[1B\u001b[2K\u001b[1B\u001b[2K\u001b[1B\u001b[2K\u001b[1B\u001b[2K\u001b8\u001b[33mmagic-platform-1  | \u001b[0m[Process 1932] Worker pool size: 1\n",
      "\u001b[0G\u001b7\u001b[1B\u001b[2K\u001b[1B\u001b[2K\u001b[1B\u001b[2K\u001b[1B\u001b[2K\u001b[1B\u001b[2K\u001b[1B\u001b[2K\u001b[1B\u001b[2K\u001b[1B\u001b[2K\u001b[1B\u001b[2K\u001b[1B\u001b[2K\u001b[1B\u001b[2K\u001b[1B\u001b[2K\u001b[1B\u001b[2K\u001b[1B\u001b[2K\u001b[1B\u001b[2K\u001b[1B\u001b[2K\u001b[1B\u001b[2K\u001b[1B\u001b[2K\u001b[1B\u001b[2K\u001b[1B\u001b[2K\u001b[1B\u001b[2K\u001b[1B\u001b[2K\u001b[1B\u001b[2K\u001b[1B\u001b[2K\u001b8\u001b[2K\n",
      "\u001b[0G\u001b[2K\n",
      "\u001b[0G\u001b[2A\u001b[0G\u001b7\u001b[24;0H\u001b[2K\u001b[1;38;2;0;0;0;48;2;255;255;255mv\u001b[0m\u001b[2m View in Docker Desktop\u001b[0m\u001b[2m   \u001b[0m\u001b[1;38;2;0;0;0;48;2;255;255;255mo\u001b[0m\u001b[2m View Config\u001b[0m\u001b[2m   \u001b[0m\u001b[1;38;2;0;0;0;48;2;255;255;255mw\u001b[0m\u001b[2m Enable Watch\u001b[0m\u001b[0G\u001b8\u001b[0G\u001b7\u001b[1B\u001b[2K\u001b[1B\u001b[2K\u001b[1B\u001b[2K\u001b[1B\u001b[2K\u001b[1B\u001b[2K\u001b[1B\u001b[2K\u001b[1B\u001b[2K\u001b[1B\u001b[2K\u001b[1B\u001b[2K\u001b[1B\u001b[2K\u001b[1B\u001b[2K\u001b[1B\u001b[2K\u001b[1B\u001b[2K\u001b[1B\u001b[2K\u001b[1B\u001b[2K\u001b[1B\u001b[2K\u001b[1B\u001b[2K\u001b[1B\u001b[2K\u001b[1B\u001b[2K\u001b[1B\u001b[2K\u001b[1B\u001b[2K\u001b[1B\u001b[2K\u001b[1B\u001b[2K\u001b[1B\u001b[2K\u001b8\u001b[33mmagic-platform-1  | \u001b[0m[Process 1932] Worker pool size: 1\n",
      "\u001b[0G\u001b7\u001b[1B\u001b[2K\u001b[1B\u001b[2K\u001b[1B\u001b[2K\u001b[1B\u001b[2K\u001b[1B\u001b[2K\u001b[1B\u001b[2K\u001b[1B\u001b[2K\u001b[1B\u001b[2K\u001b[1B\u001b[2K\u001b[1B\u001b[2K\u001b[1B\u001b[2K\u001b[1B\u001b[2K\u001b[1B\u001b[2K\u001b[1B\u001b[2K\u001b[1B\u001b[2K\u001b[1B\u001b[2K\u001b[1B\u001b[2K\u001b[1B\u001b[2K\u001b[1B\u001b[2K\u001b[1B\u001b[2K\u001b[1B\u001b[2K\u001b[1B\u001b[2K\u001b[1B\u001b[2K\u001b[1B\u001b[2K\u001b8\u001b[2K\n",
      "\u001b[0G\u001b[2K\n",
      "\u001b[0G\u001b[2A\u001b[0G\u001b7\u001b[24;0H\u001b[2K\u001b[1;38;2;0;0;0;48;2;255;255;255mv\u001b[0m\u001b[2m View in Docker Desktop\u001b[0m\u001b[2m   \u001b[0m\u001b[1;38;2;0;0;0;48;2;255;255;255mo\u001b[0m\u001b[2m View Config\u001b[0m\u001b[2m   \u001b[0m\u001b[1;38;2;0;0;0;48;2;255;255;255mw\u001b[0m\u001b[2m Enable Watch\u001b[0m\u001b[0G\u001b8\u001b[0G\u001b7\u001b[1B\u001b[2K\u001b[1B\u001b[2K\u001b[1B\u001b[2K\u001b[1B\u001b[2K\u001b[1B\u001b[2K\u001b[1B\u001b[2K\u001b[1B\u001b[2K\u001b[1B\u001b[2K\u001b[1B\u001b[2K\u001b[1B\u001b[2K\u001b[1B\u001b[2K\u001b[1B\u001b[2K\u001b[1B\u001b[2K\u001b[1B\u001b[2K\u001b[1B\u001b[2K\u001b[1B\u001b[2K\u001b[1B\u001b[2K\u001b[1B\u001b[2K\u001b[1B\u001b[2K\u001b[1B\u001b[2K\u001b[1B\u001b[2K\u001b[1B\u001b[2K\u001b[1B\u001b[2K\u001b[1B\u001b[2K\u001b8\u001b[33mmagic-platform-1  | \u001b[0m[Process 1932] Worker pool size: 1\n",
      "\u001b[0G\u001b7\u001b[1B\u001b[2K\u001b[1B\u001b[2K\u001b[1B\u001b[2K\u001b[1B\u001b[2K\u001b[1B\u001b[2K\u001b[1B\u001b[2K\u001b[1B\u001b[2K\u001b[1B\u001b[2K\u001b[1B\u001b[2K\u001b[1B\u001b[2K\u001b[1B\u001b[2K\u001b[1B\u001b[2K\u001b[1B\u001b[2K\u001b[1B\u001b[2K\u001b[1B\u001b[2K\u001b[1B\u001b[2K\u001b[1B\u001b[2K\u001b[1B\u001b[2K\u001b[1B\u001b[2K\u001b[1B\u001b[2K\u001b[1B\u001b[2K\u001b[1B\u001b[2K\u001b[1B\u001b[2K\u001b[1B\u001b[2K\u001b8\u001b[2K\n",
      "\u001b[0G\u001b[2K\n",
      "\u001b[0G\u001b[2A\u001b[0G\u001b7\u001b[24;0H\u001b[2K\u001b[1;38;2;0;0;0;48;2;255;255;255mv\u001b[0m\u001b[2m View in Docker Desktop\u001b[0m\u001b[2m   \u001b[0m\u001b[1;38;2;0;0;0;48;2;255;255;255mo\u001b[0m\u001b[2m View Config\u001b[0m\u001b[2m   \u001b[0m\u001b[1;38;2;0;0;0;48;2;255;255;255mw\u001b[0m\u001b[2m Enable Watch\u001b[0m\u001b[0G\u001b8\u001b[0G\u001b7\u001b[1B\u001b[2K\u001b[1B\u001b[2K\u001b[1B\u001b[2K\u001b[1B\u001b[2K\u001b[1B\u001b[2K\u001b[1B\u001b[2K\u001b[1B\u001b[2K\u001b[1B\u001b[2K\u001b[1B\u001b[2K\u001b[1B\u001b[2K\u001b[1B\u001b[2K\u001b[1B\u001b[2K\u001b[1B\u001b[2K\u001b[1B\u001b[2K\u001b[1B\u001b[2K\u001b[1B\u001b[2K\u001b[1B\u001b[2K\u001b[1B\u001b[2K\u001b[1B\u001b[2K\u001b[1B\u001b[2K\u001b[1B\u001b[2K\u001b[1B\u001b[2K\u001b[1B\u001b[2K\u001b[1B\u001b[2K\u001b8\u001b[33mmagic-platform-1  | \u001b[0m[Process 1932] Worker pool size: 1\n",
      "\u001b[0G\u001b7\u001b[1B\u001b[2K\u001b[1B\u001b[2K\u001b[1B\u001b[2K\u001b[1B\u001b[2K\u001b[1B\u001b[2K\u001b[1B\u001b[2K\u001b[1B\u001b[2K\u001b[1B\u001b[2K\u001b[1B\u001b[2K\u001b[1B\u001b[2K\u001b[1B\u001b[2K\u001b[1B\u001b[2K\u001b[1B\u001b[2K\u001b[1B\u001b[2K\u001b[1B\u001b[2K\u001b[1B\u001b[2K\u001b[1B\u001b[2K\u001b[1B\u001b[2K\u001b[1B\u001b[2K\u001b[1B\u001b[2K\u001b[1B\u001b[2K\u001b[1B\u001b[2K\u001b[1B\u001b[2K\u001b[1B\u001b[2K\u001b8\u001b[2K\n",
      "\u001b[0G\u001b[2K\n",
      "\u001b[0G\u001b[2A\u001b[0G\u001b7\u001b[24;0H\u001b[2K\u001b[1;38;2;0;0;0;48;2;255;255;255mv\u001b[0m\u001b[2m View in Docker Desktop\u001b[0m\u001b[2m   \u001b[0m\u001b[1;38;2;0;0;0;48;2;255;255;255mo\u001b[0m\u001b[2m View Config\u001b[0m\u001b[2m   \u001b[0m\u001b[1;38;2;0;0;0;48;2;255;255;255mw\u001b[0m\u001b[2m Enable Watch\u001b[0m\u001b[0G\u001b8\u001b[0G\u001b7\u001b[1B\u001b[2K\u001b[1B\u001b[2K\u001b[1B\u001b[2K\u001b[1B\u001b[2K\u001b[1B\u001b[2K\u001b[1B\u001b[2K\u001b[1B\u001b[2K\u001b[1B\u001b[2K\u001b[1B\u001b[2K\u001b[1B\u001b[2K\u001b[1B\u001b[2K\u001b[1B\u001b[2K\u001b[1B\u001b[2K\u001b[1B\u001b[2K\u001b[1B\u001b[2K\u001b[1B\u001b[2K\u001b[1B\u001b[2K\u001b[1B\u001b[2K\u001b[1B\u001b[2K\u001b[1B\u001b[2K\u001b[1B\u001b[2K\u001b[1B\u001b[2K\u001b[1B\u001b[2K\u001b[1B\u001b[2K\u001b8\u001b[33mmagic-platform-1  | \u001b[0m[Process 1932] Worker pool size: 1\n",
      "\u001b[0G\u001b7\u001b[1B\u001b[2K\u001b[1B\u001b[2K\u001b[1B\u001b[2K\u001b[1B\u001b[2K\u001b[1B\u001b[2K\u001b[1B\u001b[2K\u001b[1B\u001b[2K\u001b[1B\u001b[2K\u001b[1B\u001b[2K\u001b[1B\u001b[2K\u001b[1B\u001b[2K\u001b[1B\u001b[2K\u001b[1B\u001b[2K\u001b[1B\u001b[2K\u001b[1B\u001b[2K\u001b[1B\u001b[2K\u001b[1B\u001b[2K\u001b[1B\u001b[2K\u001b[1B\u001b[2K\u001b[1B\u001b[2K\u001b[1B\u001b[2K\u001b[1B\u001b[2K\u001b[1B\u001b[2K\u001b[1B\u001b[2K\u001b8\u001b[2K\n",
      "\u001b[0G\u001b[2K\n",
      "\u001b[0G\u001b[2A\u001b[0G\u001b7\u001b[24;0H\u001b[2K\u001b[1;38;2;0;0;0;48;2;255;255;255mv\u001b[0m\u001b[2m View in Docker Desktop\u001b[0m\u001b[2m   \u001b[0m\u001b[1;38;2;0;0;0;48;2;255;255;255mo\u001b[0m\u001b[2m View Config\u001b[0m\u001b[2m   \u001b[0m\u001b[1;38;2;0;0;0;48;2;255;255;255mw\u001b[0m\u001b[2m Enable Watch\u001b[0m\u001b[0G\u001b8\u001b[0G\u001b7\u001b[1B\u001b[2K\u001b[1B\u001b[2K\u001b[1B\u001b[2K\u001b[1B\u001b[2K\u001b[1B\u001b[2K\u001b[1B\u001b[2K\u001b[1B\u001b[2K\u001b[1B\u001b[2K\u001b[1B\u001b[2K\u001b[1B\u001b[2K\u001b[1B\u001b[2K\u001b[1B\u001b[2K\u001b[1B\u001b[2K\u001b[1B\u001b[2K\u001b[1B\u001b[2K\u001b[1B\u001b[2K\u001b[1B\u001b[2K\u001b[1B\u001b[2K\u001b[1B\u001b[2K\u001b[1B\u001b[2K\u001b[1B\u001b[2K\u001b[1B\u001b[2K\u001b[1B\u001b[2K\u001b[1B\u001b[2K\u001b8\u001b[33mmagic-platform-1  | \u001b[0m[Process 1932] Worker pool size: 1\n",
      "\u001b[0G\u001b7\u001b[1B\u001b[2K\u001b[1B\u001b[2K\u001b[1B\u001b[2K\u001b[1B\u001b[2K\u001b[1B\u001b[2K\u001b[1B\u001b[2K\u001b[1B\u001b[2K\u001b[1B\u001b[2K\u001b[1B\u001b[2K\u001b[1B\u001b[2K\u001b[1B\u001b[2K\u001b[1B\u001b[2K\u001b[1B\u001b[2K\u001b[1B\u001b[2K\u001b[1B\u001b[2K\u001b[1B\u001b[2K\u001b[1B\u001b[2K\u001b[1B\u001b[2K\u001b[1B\u001b[2K\u001b[1B\u001b[2K\u001b[1B\u001b[2K\u001b[1B\u001b[2K\u001b[1B\u001b[2K\u001b[1B\u001b[2K\u001b8\u001b[2K\n",
      "\u001b[0G\u001b[2K\n",
      "\u001b[0G\u001b[2A\u001b[0G\u001b7\u001b[24;0H\u001b[2K\u001b[1;38;2;0;0;0;48;2;255;255;255mv\u001b[0m\u001b[2m View in Docker Desktop\u001b[0m\u001b[2m   \u001b[0m\u001b[1;38;2;0;0;0;48;2;255;255;255mo\u001b[0m\u001b[2m View Config\u001b[0m\u001b[2m   \u001b[0m\u001b[1;38;2;0;0;0;48;2;255;255;255mw\u001b[0m\u001b[2m Enable Watch\u001b[0m\u001b[0G\u001b8\u001b[0G\u001b7\u001b[1B\u001b[2K\u001b[1B\u001b[2K\u001b[1B\u001b[2K\u001b[1B\u001b[2K\u001b[1B\u001b[2K\u001b[1B\u001b[2K\u001b[1B\u001b[2K\u001b[1B\u001b[2K\u001b[1B\u001b[2K\u001b[1B\u001b[2K\u001b[1B\u001b[2K\u001b[1B\u001b[2K\u001b[1B\u001b[2K\u001b[1B\u001b[2K\u001b[1B\u001b[2K\u001b[1B\u001b[2K\u001b[1B\u001b[2K\u001b[1B\u001b[2K\u001b[1B\u001b[2K\u001b[1B\u001b[2K\u001b[1B\u001b[2K\u001b[1B\u001b[2K\u001b[1B\u001b[2K\u001b[1B\u001b[2K\u001b8\u001b[33mmagic-platform-1  | \u001b[0m[Process 1932] Worker pool size: 1\n",
      "\u001b[0G\u001b7\u001b[1B\u001b[2K\u001b[1B\u001b[2K\u001b[1B\u001b[2K\u001b[1B\u001b[2K\u001b[1B\u001b[2K\u001b[1B\u001b[2K\u001b[1B\u001b[2K\u001b[1B\u001b[2K\u001b[1B\u001b[2K\u001b[1B\u001b[2K\u001b[1B\u001b[2K\u001b[1B\u001b[2K\u001b[1B\u001b[2K\u001b[1B\u001b[2K\u001b[1B\u001b[2K\u001b[1B\u001b[2K\u001b[1B\u001b[2K\u001b[1B\u001b[2K\u001b[1B\u001b[2K\u001b[1B\u001b[2K\u001b[1B\u001b[2K\u001b[1B\u001b[2K\u001b[1B\u001b[2K\u001b[1B\u001b[2K\u001b8\u001b[2K\n",
      "\u001b[0G\u001b[2K\n",
      "\u001b[0G\u001b[2A\u001b[0G\u001b7\u001b[24;0H\u001b[2K\u001b[1;38;2;0;0;0;48;2;255;255;255mv\u001b[0m\u001b[2m View in Docker Desktop\u001b[0m\u001b[2m   \u001b[0m\u001b[1;38;2;0;0;0;48;2;255;255;255mo\u001b[0m\u001b[2m View Config\u001b[0m\u001b[2m   \u001b[0m\u001b[1;38;2;0;0;0;48;2;255;255;255mw\u001b[0m\u001b[2m Enable Watch\u001b[0m\u001b[0G\u001b8\u001b[0G\u001b7\u001b[1B\u001b[2K\u001b[1B\u001b[2K\u001b[1B\u001b[2K\u001b[1B\u001b[2K\u001b[1B\u001b[2K\u001b[1B\u001b[2K\u001b[1B\u001b[2K\u001b[1B\u001b[2K\u001b[1B\u001b[2K\u001b[1B\u001b[2K\u001b[1B\u001b[2K\u001b[1B\u001b[2K\u001b[1B\u001b[2K\u001b[1B\u001b[2K\u001b[1B\u001b[2K\u001b[1B\u001b[2K\u001b[1B\u001b[2K\u001b[1B\u001b[2K\u001b[1B\u001b[2K\u001b[1B\u001b[2K\u001b[1B\u001b[2K\u001b[1B\u001b[2K\u001b[1B\u001b[2K\u001b[1B\u001b[2K\u001b8\u001b[33mmagic-platform-1  | \u001b[0mINFO:mage_ai.orchestration.pipeline_scheduler_original:Active pipeline runs: []\n",
      "\u001b[0G\u001b7\u001b[1B\u001b[2K\u001b[1B\u001b[2K\u001b[1B\u001b[2K\u001b[1B\u001b[2K\u001b[1B\u001b[2K\u001b[1B\u001b[2K\u001b[1B\u001b[2K\u001b[1B\u001b[2K\u001b[1B\u001b[2K\u001b[1B\u001b[2K\u001b[1B\u001b[2K\u001b[1B\u001b[2K\u001b[1B\u001b[2K\u001b[1B\u001b[2K\u001b[1B\u001b[2K\u001b[1B\u001b[2K\u001b[1B\u001b[2K\u001b[1B\u001b[2K\u001b[1B\u001b[2K\u001b[1B\u001b[2K\u001b[1B\u001b[2K\u001b[1B\u001b[2K\u001b[1B\u001b[2K\u001b[1B\u001b[2K\u001b8\u001b[2K\n",
      "\u001b[0G\u001b[2K\n",
      "\u001b[0G\u001b[2A\u001b[0G\u001b7\u001b[24;0H\u001b[2K\u001b[1;38;2;0;0;0;48;2;255;255;255mv\u001b[0m\u001b[2m View in Docker Desktop\u001b[0m\u001b[2m   \u001b[0m\u001b[1;38;2;0;0;0;48;2;255;255;255mo\u001b[0m\u001b[2m View Config\u001b[0m\u001b[2m   \u001b[0m\u001b[1;38;2;0;0;0;48;2;255;255;255mw\u001b[0m\u001b[2m Enable Watch\u001b[0m\u001b[0G\u001b8\u001b[0G\u001b7\u001b[1B\u001b[2K\u001b[1B\u001b[2K\u001b[1B\u001b[2K\u001b[1B\u001b[2K\u001b[1B\u001b[2K\u001b[1B\u001b[2K\u001b[1B\u001b[2K\u001b[1B\u001b[2K\u001b[1B\u001b[2K\u001b[1B\u001b[2K\u001b[1B\u001b[2K\u001b[1B\u001b[2K\u001b[1B\u001b[2K\u001b[1B\u001b[2K\u001b[1B\u001b[2K\u001b[1B\u001b[2K\u001b[1B\u001b[2K\u001b[1B\u001b[2K\u001b[1B\u001b[2K\u001b[1B\u001b[2K\u001b[1B\u001b[2K\u001b[1B\u001b[2K\u001b[1B\u001b[2K\u001b[1B\u001b[2K\u001b8\u001b[33mmagic-platform-1  | \u001b[0m[Process 1932] Worker pool size: 1\n",
      "\u001b[0G\u001b7\u001b[1B\u001b[2K\u001b[1B\u001b[2K\u001b[1B\u001b[2K\u001b[1B\u001b[2K\u001b[1B\u001b[2K\u001b[1B\u001b[2K\u001b[1B\u001b[2K\u001b[1B\u001b[2K\u001b[1B\u001b[2K\u001b[1B\u001b[2K\u001b[1B\u001b[2K\u001b[1B\u001b[2K\u001b[1B\u001b[2K\u001b[1B\u001b[2K\u001b[1B\u001b[2K\u001b[1B\u001b[2K\u001b[1B\u001b[2K\u001b[1B\u001b[2K\u001b[1B\u001b[2K\u001b[1B\u001b[2K\u001b[1B\u001b[2K\u001b[1B\u001b[2K\u001b[1B\u001b[2K\u001b[1B\u001b[2K\u001b8\u001b[2K\n",
      "\u001b[0G\u001b[2K\n",
      "\u001b[0G\u001b[2A\u001b[0G\u001b7\u001b[24;0H\u001b[2K\u001b[1;38;2;0;0;0;48;2;255;255;255mv\u001b[0m\u001b[2m View in Docker Desktop\u001b[0m\u001b[2m   \u001b[0m\u001b[1;38;2;0;0;0;48;2;255;255;255mo\u001b[0m\u001b[2m View Config\u001b[0m\u001b[2m   \u001b[0m\u001b[1;38;2;0;0;0;48;2;255;255;255mw\u001b[0m\u001b[2m Enable Watch\u001b[0m\u001b[0G\u001b8\u001b[0G\u001b7\u001b[1B\u001b[2K\u001b[1B\u001b[2K\u001b[1B\u001b[2K\u001b[1B\u001b[2K\u001b[1B\u001b[2K\u001b[1B\u001b[2K\u001b[1B\u001b[2K\u001b[1B\u001b[2K\u001b[1B\u001b[2K\u001b[1B\u001b[2K\u001b[1B\u001b[2K\u001b[1B\u001b[2K\u001b[1B\u001b[2K\u001b[1B\u001b[2K\u001b[1B\u001b[2K\u001b[1B\u001b[2K\u001b[1B\u001b[2K\u001b[1B\u001b[2K\u001b[1B\u001b[2K\u001b[1B\u001b[2K\u001b[1B\u001b[2K\u001b[1B\u001b[2K\u001b[1B\u001b[2K\u001b[1B\u001b[2K\u001b8\u001b[33mmagic-platform-1  | \u001b[0mINFO:mage_ai.server.scheduler_manager:Scheduler status: running.\n",
      "\u001b[0G\u001b7\u001b[1B\u001b[2K\u001b[1B\u001b[2K\u001b[1B\u001b[2K\u001b[1B\u001b[2K\u001b[1B\u001b[2K\u001b[1B\u001b[2K\u001b[1B\u001b[2K\u001b[1B\u001b[2K\u001b[1B\u001b[2K\u001b[1B\u001b[2K\u001b[1B\u001b[2K\u001b[1B\u001b[2K\u001b[1B\u001b[2K\u001b[1B\u001b[2K\u001b[1B\u001b[2K\u001b[1B\u001b[2K\u001b[1B\u001b[2K\u001b[1B\u001b[2K\u001b[1B\u001b[2K\u001b[1B\u001b[2K\u001b[1B\u001b[2K\u001b[1B\u001b[2K\u001b[1B\u001b[2K\u001b[1B\u001b[2K\u001b8\u001b[2K\n",
      "\u001b[0G\u001b[2K\n",
      "\u001b[0G\u001b[2A\u001b[0G\u001b7\u001b[24;0H\u001b[2K\u001b[1;38;2;0;0;0;48;2;255;255;255mv\u001b[0m\u001b[2m View in Docker Desktop\u001b[0m\u001b[2m   \u001b[0m\u001b[1;38;2;0;0;0;48;2;255;255;255mo\u001b[0m\u001b[2m View Config\u001b[0m\u001b[2m   \u001b[0m\u001b[1;38;2;0;0;0;48;2;255;255;255mw\u001b[0m\u001b[2m Enable Watch\u001b[0m\u001b[0G\u001b8\u001b[0G\u001b7\u001b[1B\u001b[2K\u001b[1B\u001b[2K\u001b[1B\u001b[2K\u001b[1B\u001b[2K\u001b[1B\u001b[2K\u001b[1B\u001b[2K\u001b[1B\u001b[2K\u001b[1B\u001b[2K\u001b[1B\u001b[2K\u001b[1B\u001b[2K\u001b[1B\u001b[2K\u001b[1B\u001b[2K\u001b[1B\u001b[2K\u001b[1B\u001b[2K\u001b[1B\u001b[2K\u001b[1B\u001b[2K\u001b[1B\u001b[2K\u001b[1B\u001b[2K\u001b[1B\u001b[2K\u001b[1B\u001b[2K\u001b[1B\u001b[2K\u001b[1B\u001b[2K\u001b[1B\u001b[2K\u001b[1B\u001b[2K\u001b8\u001b[33mmagic-platform-1  | \u001b[0m[Process 1932] Worker pool size: 1\n",
      "\u001b[0G\u001b7\u001b[1B\u001b[2K\u001b[1B\u001b[2K\u001b[1B\u001b[2K\u001b[1B\u001b[2K\u001b[1B\u001b[2K\u001b[1B\u001b[2K\u001b[1B\u001b[2K\u001b[1B\u001b[2K\u001b[1B\u001b[2K\u001b[1B\u001b[2K\u001b[1B\u001b[2K\u001b[1B\u001b[2K\u001b[1B\u001b[2K\u001b[1B\u001b[2K\u001b[1B\u001b[2K\u001b[1B\u001b[2K\u001b[1B\u001b[2K\u001b[1B\u001b[2K\u001b[1B\u001b[2K\u001b[1B\u001b[2K\u001b[1B\u001b[2K\u001b[1B\u001b[2K\u001b[1B\u001b[2K\u001b[1B\u001b[2K\u001b8\u001b[2K\n",
      "\u001b[0G\u001b[2K\n",
      "\u001b[0G\u001b[2A\u001b[0G\u001b7\u001b[24;0H\u001b[2K\u001b[1;38;2;0;0;0;48;2;255;255;255mv\u001b[0m\u001b[2m View in Docker Desktop\u001b[0m\u001b[2m   \u001b[0m\u001b[1;38;2;0;0;0;48;2;255;255;255mo\u001b[0m\u001b[2m View Config\u001b[0m\u001b[2m   \u001b[0m\u001b[1;38;2;0;0;0;48;2;255;255;255mw\u001b[0m\u001b[2m Enable Watch\u001b[0m\u001b[0G\u001b8\u001b[0G\u001b7\u001b[1B\u001b[2K\u001b[1B\u001b[2K\u001b[1B\u001b[2K\u001b[1B\u001b[2K\u001b[1B\u001b[2K\u001b[1B\u001b[2K\u001b[1B\u001b[2K\u001b[1B\u001b[2K\u001b[1B\u001b[2K\u001b[1B\u001b[2K\u001b[1B\u001b[2K\u001b[1B\u001b[2K\u001b[1B\u001b[2K\u001b[1B\u001b[2K\u001b[1B\u001b[2K\u001b[1B\u001b[2K\u001b[1B\u001b[2K\u001b[1B\u001b[2K\u001b[1B\u001b[2K\u001b[1B\u001b[2K\u001b[1B\u001b[2K\u001b[1B\u001b[2K\u001b[1B\u001b[2K\u001b[1B\u001b[2K\u001b8\u001b[33mmagic-platform-1  | \u001b[0m[Process 1932] Worker pool size: 1\n",
      "\u001b[0G\u001b7\u001b[1B\u001b[2K\u001b[1B\u001b[2K\u001b[1B\u001b[2K\u001b[1B\u001b[2K\u001b[1B\u001b[2K\u001b[1B\u001b[2K\u001b[1B\u001b[2K\u001b[1B\u001b[2K\u001b[1B\u001b[2K\u001b[1B\u001b[2K\u001b[1B\u001b[2K\u001b[1B\u001b[2K\u001b[1B\u001b[2K\u001b[1B\u001b[2K\u001b[1B\u001b[2K\u001b[1B\u001b[2K\u001b[1B\u001b[2K\u001b[1B\u001b[2K\u001b[1B\u001b[2K\u001b[1B\u001b[2K\u001b[1B\u001b[2K\u001b[1B\u001b[2K\u001b[1B\u001b[2K\u001b[1B\u001b[2K\u001b8\u001b[2K\n",
      "\u001b[0G\u001b[2K\n",
      "\u001b[0G\u001b[2A\u001b[0G\u001b7\u001b[24;0H\u001b[2K\u001b[1;38;2;0;0;0;48;2;255;255;255mv\u001b[0m\u001b[2m View in Docker Desktop\u001b[0m\u001b[2m   \u001b[0m\u001b[1;38;2;0;0;0;48;2;255;255;255mo\u001b[0m\u001b[2m View Config\u001b[0m\u001b[2m   \u001b[0m\u001b[1;38;2;0;0;0;48;2;255;255;255mw\u001b[0m\u001b[2m Enable Watch\u001b[0m\u001b[0G\u001b8\u001b[0G\u001b7\u001b[1B\u001b[2K\u001b[1B\u001b[2K\u001b[1B\u001b[2K\u001b[1B\u001b[2K\u001b[1B\u001b[2K\u001b[1B\u001b[2K\u001b[1B\u001b[2K\u001b[1B\u001b[2K\u001b[1B\u001b[2K\u001b[1B\u001b[2K\u001b[1B\u001b[2K\u001b[1B\u001b[2K\u001b[1B\u001b[2K\u001b[1B\u001b[2K\u001b[1B\u001b[2K\u001b[1B\u001b[2K\u001b[1B\u001b[2K\u001b[1B\u001b[2K\u001b[1B\u001b[2K\u001b[1B\u001b[2K\u001b[1B\u001b[2K\u001b[1B\u001b[2K\u001b[1B\u001b[2K\u001b[1B\u001b[2K\u001b8\u001b[33mmagic-platform-1  | \u001b[0m[Process 1932] Worker pool size: 1\n",
      "\u001b[0G\u001b7\u001b[1B\u001b[2K\u001b[1B\u001b[2K\u001b[1B\u001b[2K\u001b[1B\u001b[2K\u001b[1B\u001b[2K\u001b[1B\u001b[2K\u001b[1B\u001b[2K\u001b[1B\u001b[2K\u001b[1B\u001b[2K\u001b[1B\u001b[2K\u001b[1B\u001b[2K\u001b[1B\u001b[2K\u001b[1B\u001b[2K\u001b[1B\u001b[2K\u001b[1B\u001b[2K\u001b[1B\u001b[2K\u001b[1B\u001b[2K\u001b[1B\u001b[2K\u001b[1B\u001b[2K\u001b[1B\u001b[2K\u001b[1B\u001b[2K\u001b[1B\u001b[2K\u001b[1B\u001b[2K\u001b[1B\u001b[2K\u001b8\u001b[2K\n",
      "\u001b[0G\u001b[2K\n",
      "\u001b[0G\u001b[2A\u001b[0G\u001b7\u001b[24;0H\u001b[2K\u001b[1;38;2;0;0;0;48;2;255;255;255mv\u001b[0m\u001b[2m View in Docker Desktop\u001b[0m\u001b[2m   \u001b[0m\u001b[1;38;2;0;0;0;48;2;255;255;255mo\u001b[0m\u001b[2m View Config\u001b[0m\u001b[2m   \u001b[0m\u001b[1;38;2;0;0;0;48;2;255;255;255mw\u001b[0m\u001b[2m Enable Watch\u001b[0m\u001b[0G\u001b8\u001b[0G\u001b7\u001b[1B\u001b[2K\u001b[1B\u001b[2K\u001b[1B\u001b[2K\u001b[1B\u001b[2K\u001b[1B\u001b[2K\u001b[1B\u001b[2K\u001b[1B\u001b[2K\u001b[1B\u001b[2K\u001b[1B\u001b[2K\u001b[1B\u001b[2K\u001b[1B\u001b[2K\u001b[1B\u001b[2K\u001b[1B\u001b[2K\u001b[1B\u001b[2K\u001b[1B\u001b[2K\u001b[1B\u001b[2K\u001b[1B\u001b[2K\u001b[1B\u001b[2K\u001b[1B\u001b[2K\u001b[1B\u001b[2K\u001b[1B\u001b[2K\u001b[1B\u001b[2K\u001b[1B\u001b[2K\u001b[1B\u001b[2K\u001b8\u001b[33mmagic-platform-1  | \u001b[0m[Process 1932] Worker pool size: 1\n",
      "\u001b[0G\u001b7\u001b[1B\u001b[2K\u001b[1B\u001b[2K\u001b[1B\u001b[2K\u001b[1B\u001b[2K\u001b[1B\u001b[2K\u001b[1B\u001b[2K\u001b[1B\u001b[2K\u001b[1B\u001b[2K\u001b[1B\u001b[2K\u001b[1B\u001b[2K\u001b[1B\u001b[2K\u001b[1B\u001b[2K\u001b[1B\u001b[2K\u001b[1B\u001b[2K\u001b[1B\u001b[2K\u001b[1B\u001b[2K\u001b[1B\u001b[2K\u001b[1B\u001b[2K\u001b[1B\u001b[2K\u001b[1B\u001b[2K\u001b[1B\u001b[2K\u001b[1B\u001b[2K\u001b[1B\u001b[2K\u001b[1B\u001b[2K\u001b8\u001b[2K\n",
      "\u001b[0G\u001b[2K\n",
      "\u001b[0G\u001b[2A\u001b[0G\u001b7\u001b[24;0H\u001b[2K\u001b[1;38;2;0;0;0;48;2;255;255;255mv\u001b[0m\u001b[2m View in Docker Desktop\u001b[0m\u001b[2m   \u001b[0m\u001b[1;38;2;0;0;0;48;2;255;255;255mo\u001b[0m\u001b[2m View Config\u001b[0m\u001b[2m   \u001b[0m\u001b[1;38;2;0;0;0;48;2;255;255;255mw\u001b[0m\u001b[2m Enable Watch\u001b[0m\u001b[0G\u001b8\u001b[0G\u001b7\u001b[1B\u001b[2K\u001b[1B\u001b[2K\u001b[1B\u001b[2K\u001b[1B\u001b[2K\u001b[1B\u001b[2K\u001b[1B\u001b[2K\u001b[1B\u001b[2K\u001b[1B\u001b[2K\u001b[1B\u001b[2K\u001b[1B\u001b[2K\u001b[1B\u001b[2K\u001b[1B\u001b[2K\u001b[1B\u001b[2K\u001b[1B\u001b[2K\u001b[1B\u001b[2K\u001b[1B\u001b[2K\u001b[1B\u001b[2K\u001b[1B\u001b[2K\u001b[1B\u001b[2K\u001b[1B\u001b[2K\u001b[1B\u001b[2K\u001b[1B\u001b[2K\u001b[1B\u001b[2K\u001b[1B\u001b[2K\u001b8\u001b[?25hGracefully stopping... (press Ctrl+C again to force)\n",
      "\u001b[1A\u001b[1B\u001b[0G\u001b[?25l[+] Stopping 0/0\n",
      " \u001b[33m⠋\u001b[0m Container mlops-mage-magic-platform-1  Stopping                         \u001b[34m0.1s \u001b[0m\n",
      "\u001b[?25h"
     ]
    }
   ],
   "source": [
    "!cd ../chapter3/mlops-mage/ && ./scripts/start.sh"
   ]
  },
  {
   "cell_type": "markdown",
   "metadata": {},
   "source": [
    "Version: v0.9.73\n"
   ]
  },
  {
   "cell_type": "markdown",
   "metadata": {},
   "source": [
    "# Q2"
   ]
  },
  {
   "cell_type": "markdown",
   "metadata": {},
   "source": [
    "55 lines"
   ]
  },
  {
   "cell_type": "markdown",
   "metadata": {},
   "source": [
    "# Q3"
   ]
  },
  {
   "cell_type": "markdown",
   "metadata": {},
   "source": [
    "3,403,766 lines"
   ]
  },
  {
   "cell_type": "markdown",
   "metadata": {},
   "source": [
    "# Q4"
   ]
  },
  {
   "cell_type": "markdown",
   "metadata": {},
   "source": [
    "3,316,216"
   ]
  },
  {
   "cell_type": "markdown",
   "metadata": {},
   "source": [
    "# Q5"
   ]
  },
  {
   "cell_type": "markdown",
   "metadata": {},
   "source": [
    "24.77\n"
   ]
  },
  {
   "cell_type": "markdown",
   "metadata": {},
   "source": [
    "# Q6"
   ]
  },
  {
   "cell_type": "markdown",
   "metadata": {},
   "source": [
    "4,534"
   ]
  }
 ],
 "metadata": {
  "kernelspec": {
   "display_name": "mlops",
   "language": "python",
   "name": "python3"
  },
  "language_info": {
   "codemirror_mode": {
    "name": "ipython",
    "version": 3
   },
   "file_extension": ".py",
   "mimetype": "text/x-python",
   "name": "python",
   "nbconvert_exporter": "python",
   "pygments_lexer": "ipython3",
   "version": "3.9.20"
  }
 },
 "nbformat": 4,
 "nbformat_minor": 2
}
