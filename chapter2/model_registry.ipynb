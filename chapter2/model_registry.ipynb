{
 "cells": [
  {
   "cell_type": "code",
   "execution_count": 2,
   "metadata": {},
   "outputs": [],
   "source": [
    "from mlflow.tracking import MlflowClient\n",
    "\n",
    "MLFLOW_TRACKING_URI = \"http://127.0.0.1:5000\"\n",
    "\n",
    "client = MlflowClient(tracking_uri=MLFLOW_TRACKING_URI)"
   ]
  },
  {
   "cell_type": "code",
   "execution_count": 3,
   "metadata": {},
   "outputs": [
    {
     "data": {
      "text/plain": [
       "'http://127.0.0.1:5000'"
      ]
     },
     "execution_count": 3,
     "metadata": {},
     "output_type": "execute_result"
    }
   ],
   "source": [
    "client.tracking_uri"
   ]
  },
  {
   "cell_type": "code",
   "execution_count": 7,
   "metadata": {},
   "outputs": [
    {
     "data": {
      "text/plain": [
       "[<Run: data=<RunData: metrics={'rmse': 2.5783958849462065}, params={'learning_rate': '0.07821770025674853',\n",
       "  'max_depth': '50',\n",
       "  'min_child_weight': '10.308529401219346',\n",
       "  'reg_alpha': '0.3657738575412868',\n",
       "  'reg_lambda': '0.2780900571916324'}, tags={'mlflow.runName': 'blushing-bass-133',\n",
       "  'mlflow.source.name': '/home/codespace/.local/lib/python3.12/site-packages/ipykernel_launcher.py',\n",
       "  'mlflow.source.type': 'LOCAL',\n",
       "  'mlflow.user': 'codespace',\n",
       "  'model': 'xgboost'}>, info=<RunInfo: artifact_uri='mlflow-artifacts:/1/d82b8c4499ca4f20a6bc26131d455856/artifacts', end_time=1730130185751, experiment_id='1', lifecycle_stage='active', run_id='d82b8c4499ca4f20a6bc26131d455856', run_name='blushing-bass-133', run_uuid='d82b8c4499ca4f20a6bc26131d455856', start_time=1730129852137, status='FAILED', user_id='codespace'>, inputs=<RunInputs: dataset_inputs=[]>>,\n",
       " <Run: data=<RunData: metrics={'best_iteration': 320.0,\n",
       "  'rmse': 2.5783958849462065,\n",
       "  'stopped_iteration': 370.0,\n",
       "  'validation-rmse': 6.6481082906472215}, params={'custom_metric': 'None',\n",
       "  'early_stopping_rounds': '50',\n",
       "  'learning_rate': '0.07821770025674853',\n",
       "  'max_depth': '50',\n",
       "  'maximize': 'None',\n",
       "  'min_child_weight': '10.308529401219346',\n",
       "  'num_boost_round': '1000',\n",
       "  'reg_alpha': '0.3657738575412868',\n",
       "  'reg_lambda': '0.2780900571916324',\n",
       "  'verbose_eval': 'True'}, tags={'mlflow.log-model.history': '[{\"run_id\": \"730ce618f1d5499590a3008b364a0c14\", '\n",
       "                              '\"artifact_path\": \"model\", \"utc_time_created\": '\n",
       "                              '\"2024-10-28 15:32:01.162173\", \"model_uuid\": '\n",
       "                              '\"dda6fb78772549f680a3b8884a217f98\", \"flavors\": '\n",
       "                              '{\"python_function\": {\"loader_module\": '\n",
       "                              '\"mlflow.xgboost\", \"python_version\": \"3.12.1\", '\n",
       "                              '\"data\": \"model.xgb\", \"env\": {\"conda\": '\n",
       "                              '\"conda.yaml\", \"virtualenv\": \"python_env.yaml\"}}, '\n",
       "                              '\"xgboost\": {\"xgb_version\": \"2.1.2\", \"data\": '\n",
       "                              '\"model.xgb\", \"model_class\": '\n",
       "                              '\"xgboost.core.Booster\", \"model_format\": \"xgb\", '\n",
       "                              '\"code\": null}}}, {\"run_id\": '\n",
       "                              '\"730ce618f1d5499590a3008b364a0c14\", '\n",
       "                              '\"artifact_path\": \"model\", \"utc_time_created\": '\n",
       "                              '\"2024-10-28 15:33:54.925616\", \"model_uuid\": '\n",
       "                              '\"d7b26f2d02d7447e80f54c0f89caa6e4\", \"flavors\": '\n",
       "                              '{\"python_function\": {\"loader_module\": '\n",
       "                              '\"mlflow.xgboost\", \"python_version\": \"3.12.1\", '\n",
       "                              '\"data\": \"model.xgb\", \"env\": {\"conda\": '\n",
       "                              '\"conda.yaml\", \"virtualenv\": \"python_env.yaml\"}}, '\n",
       "                              '\"xgboost\": {\"xgb_version\": \"2.1.2\", \"data\": '\n",
       "                              '\"model.xgb\", \"model_class\": '\n",
       "                              '\"xgboost.core.Booster\", \"model_format\": \"xgb\", '\n",
       "                              '\"code\": null}}}]',\n",
       "  'mlflow.runName': 'grandiose-whale-521',\n",
       "  'mlflow.source.name': '/home/codespace/.local/lib/python3.12/site-packages/ipykernel_launcher.py',\n",
       "  'mlflow.source.type': 'LOCAL',\n",
       "  'mlflow.user': 'codespace'}>, info=<RunInfo: artifact_uri='mlflow-artifacts:/1/730ce618f1d5499590a3008b364a0c14/artifacts', end_time=1730129637512, experiment_id='1', lifecycle_stage='active', run_id='730ce618f1d5499590a3008b364a0c14', run_name='grandiose-whale-521', run_uuid='730ce618f1d5499590a3008b364a0c14', start_time=1730129281277, status='FINISHED', user_id='codespace'>, inputs=<RunInputs: dataset_inputs=[<DatasetInput: dataset=<Dataset: digest='145b5bf3', name='dataset', profile=('{\"features_shape\": [3022755, 2], \"features_size\": 6045510, '\n",
       "  '\"features_nbytes\": 24182040}'), schema=('{\"mlflow_tensorspec\": {\"features\": \"[{\\\\\"type\\\\\": \\\\\"tensor\\\\\", '\n",
       "  '\\\\\"tensor-spec\\\\\": {\\\\\"dtype\\\\\": \\\\\"float32\\\\\", \\\\\"shape\\\\\": [-1, 2]}}]\", '\n",
       "  '\"targets\": null}}'), source=('{\"tags\": {\"mlflow.user\": \"codespace\", \"mlflow.source.name\": '\n",
       "  '\"/home/codespace/.local/lib/python3.12/site-packages/ipykernel_launcher.py\", '\n",
       "  '\"mlflow.source.type\": \"LOCAL\"}}'), source_type='code'>, tags=[<InputTag: key='mlflow.data.context', value='train'>]>,\n",
       "  <DatasetInput: dataset=<Dataset: digest='e0328441', name='validation', profile=('{\"features_shape\": [2920073, 2], \"features_size\": 5840146, '\n",
       "  '\"features_nbytes\": 23360584}'), schema=('{\"mlflow_tensorspec\": {\"features\": \"[{\\\\\"type\\\\\": \\\\\"tensor\\\\\", '\n",
       "  '\\\\\"tensor-spec\\\\\": {\\\\\"dtype\\\\\": \\\\\"float32\\\\\", \\\\\"shape\\\\\": [-1, 2]}}]\", '\n",
       "  '\"targets\": null}}'), source=('{\"tags\": {\"mlflow.user\": \"codespace\", \"mlflow.source.name\": '\n",
       "  '\"/home/codespace/.local/lib/python3.12/site-packages/ipykernel_launcher.py\", '\n",
       "  '\"mlflow.source.type\": \"LOCAL\"}}'), source_type='code'>, tags=[<InputTag: key='mlflow.data.context', value='eval'>]>]>>,\n",
       " <Run: data=<RunData: metrics={'rmse': 2.5783987046175953}, params={'learning_rate': '0.07821770025674853',\n",
       "  'max_depth': '50',\n",
       "  'min_child_weight': '10',\n",
       "  'objective': 'reg:linear',\n",
       "  'reg_alpha': '0.3657738575412868',\n",
       "  'reg_lambda': '0.2780900571916324',\n",
       "  'seed': '192'}, tags={'mlflow.runName': 'bold-snipe-367',\n",
       "  'mlflow.source.name': '/home/codespace/.local/lib/python3.12/site-packages/ipykernel_launcher.py',\n",
       "  'mlflow.source.type': 'LOCAL',\n",
       "  'mlflow.user': 'codespace',\n",
       "  'model': 'xgboost'}>, info=<RunInfo: artifact_uri='mlflow-artifacts:/1/908602715f834d978925e0c2450fd033/artifacts', end_time=1730122862063, experiment_id='1', lifecycle_stage='active', run_id='908602715f834d978925e0c2450fd033', run_name='bold-snipe-367', run_uuid='908602715f834d978925e0c2450fd033', start_time=1730122583307, status='FINISHED', user_id='codespace'>, inputs=<RunInputs: dataset_inputs=[]>>,\n",
       " <Run: data=<RunData: metrics={'rmse': 2.578402070804877}, params={'learning_rate': '0.07126146273240523',\n",
       "  'max_depth': '11',\n",
       "  'min_child_weight': '3',\n",
       "  'objective': 'reg:linear',\n",
       "  'reg_alpha': '0.0166746419678317',\n",
       "  'reg_lambda': '0.00814422832033945',\n",
       "  'seed': '192'}, tags={'mlflow.runName': 'indecisive-colt-309',\n",
       "  'mlflow.source.name': '/home/codespace/.local/lib/python3.12/site-packages/ipykernel_launcher.py',\n",
       "  'mlflow.source.type': 'LOCAL',\n",
       "  'mlflow.user': 'codespace',\n",
       "  'model': 'xgboost'}>, info=<RunInfo: artifact_uri='mlflow-artifacts:/1/eabbdaaef77143f4ba708f6844fb1c4b/artifacts', end_time=1730122583268, experiment_id='1', lifecycle_stage='active', run_id='eabbdaaef77143f4ba708f6844fb1c4b', run_name='indecisive-colt-309', run_uuid='eabbdaaef77143f4ba708f6844fb1c4b', start_time=1730122336337, status='FINISHED', user_id='codespace'>, inputs=<RunInputs: dataset_inputs=[]>>,\n",
       " <Run: data=<RunData: metrics={'rmse': 2.578424661145273}, params={'learning_rate': '0.7642238261917301',\n",
       "  'max_depth': '89',\n",
       "  'min_child_weight': '12',\n",
       "  'objective': 'reg:squarederror',\n",
       "  'reg_alpha': '0.046390865549832794',\n",
       "  'reg_lambda': '0.03898891619999199',\n",
       "  'seed': '192'}, tags={'mlflow.runName': 'melodic-pig-158',\n",
       "  'mlflow.source.name': '/home/codespace/.local/lib/python3.12/site-packages/ipykernel_launcher.py',\n",
       "  'mlflow.source.type': 'LOCAL',\n",
       "  'mlflow.user': 'codespace',\n",
       "  'model': 'xgboost'}>, info=<RunInfo: artifact_uri='mlflow-artifacts:/1/99c2c5fe36d04def99e8741c95855b9e/artifacts', end_time=1730130784356, experiment_id='1', lifecycle_stage='active', run_id='99c2c5fe36d04def99e8741c95855b9e', run_name='melodic-pig-158', run_uuid='99c2c5fe36d04def99e8741c95855b9e', start_time=1730130724840, status='FINISHED', user_id='codespace'>, inputs=<RunInputs: dataset_inputs=[]>>]"
      ]
     },
     "execution_count": 7,
     "metadata": {},
     "output_type": "execute_result"
    }
   ],
   "source": [
    "from mlflow.entities import ViewType\n",
    "\n",
    "client.search_runs(\n",
    "    experiment_ids=\"1\",\n",
    "    filter_string=\"metrics.rmse < 7\",\n",
    "    run_view_type=ViewType.ACTIVE_ONLY,\n",
    "    max_results=5,\n",
    "    order_by=[\"metrics.rmse ASC\"],\n",
    ")"
   ]
  },
  {
   "cell_type": "code",
   "execution_count": 8,
   "metadata": {},
   "outputs": [
    {
     "name": "stdout",
     "output_type": "stream",
     "text": [
      "run id: d82b8c4499ca4f20a6bc26131d455856, rmse: 2.5783958849462065\n",
      "run id: 730ce618f1d5499590a3008b364a0c14, rmse: 2.5783958849462065\n",
      "run id: 908602715f834d978925e0c2450fd033, rmse: 2.5783987046175953\n",
      "run id: eabbdaaef77143f4ba708f6844fb1c4b, rmse: 2.578402070804877\n",
      "run id: 99c2c5fe36d04def99e8741c95855b9e, rmse: 2.578424661145273\n"
     ]
    }
   ],
   "source": [
    "runs = client.search_runs(\n",
    "    experiment_ids=\"1\",\n",
    "    filter_string=\"metrics.rmse < 10\",\n",
    "    run_view_type=ViewType.ACTIVE_ONLY,\n",
    "    max_results=5,\n",
    "    order_by=[\"metrics.rmse ASC\"],\n",
    ")\n",
    "for run in runs:\n",
    "    print(f\"run id: {run.info.run_id}, rmse: {run.data.metrics['rmse']}\")"
   ]
  },
  {
   "cell_type": "markdown",
   "metadata": {},
   "source": [
    "promoting to model registry"
   ]
  },
  {
   "cell_type": "code",
   "execution_count": 17,
   "metadata": {},
   "outputs": [
    {
     "name": "stderr",
     "output_type": "stream",
     "text": [
      "Registered model 'duration-prediction' already exists. Creating a new version of this model...\n",
      "2024/10/29 12:00:31 INFO mlflow.store.model_registry.abstract_store: Waiting up to 300 seconds for model version to finish creation. Model name: duration-prediction, version 3\n",
      "Created version '3' of model 'duration-prediction'.\n"
     ]
    },
    {
     "data": {
      "text/plain": [
       "<ModelVersion: aliases=[], creation_timestamp=1730203231277, current_stage='None', description='', last_updated_timestamp=1730203231277, name='duration-prediction', run_id='99c2c5fe36d04def99e8741c95855b9e', run_link='', source='mlflow-artifacts:/1/99c2c5fe36d04def99e8741c95855b9e/artifacts/model', status='READY', status_message='', tags={}, user_id='', version='3'>"
      ]
     },
     "execution_count": 17,
     "metadata": {},
     "output_type": "execute_result"
    }
   ],
   "source": [
    "import mlflow\n",
    "\n",
    "top_run = None\n",
    "\n",
    "for run in runs:\n",
    "    # if top_run is None or run.data.metrics[\"rmse\"] < top_run.data.metrics[\"rmse\"]+.5:\n",
    "    if run.info.run_id.startswith(\"7\"):\n",
    "        top_run = run\n",
    "\n",
    "mlflow.set_tracking_uri(MLFLOW_TRACKING_URI)\n",
    "mlflow.register_model(f\"runs:/{run.info.run_id}/model\", \"duration-prediction\")"
   ]
  },
  {
   "cell_type": "markdown",
   "metadata": {},
   "source": [
    "model transition\n"
   ]
  },
  {
   "cell_type": "code",
   "execution_count": 18,
   "metadata": {},
   "outputs": [
    {
     "name": "stderr",
     "output_type": "stream",
     "text": [
      "/tmp/ipykernel_9219/477942883.py:1: FutureWarning: ``mlflow.tracking.client.MlflowClient.get_latest_versions`` is deprecated since 2.9.0. Model registry stages will be removed in a future major release. To learn more about the deprecation of model registry stages, see our migration guide here: https://mlflow.org/docs/latest/model-registry.html#migrating-from-stages\n",
      "  client.get_latest_versions(\"duration-prediction\")\n"
     ]
    },
    {
     "data": {
      "text/plain": [
       "[<ModelVersion: aliases=[], creation_timestamp=1730203231277, current_stage='None', description='', last_updated_timestamp=1730203231277, name='duration-prediction', run_id='99c2c5fe36d04def99e8741c95855b9e', run_link='', source='mlflow-artifacts:/1/99c2c5fe36d04def99e8741c95855b9e/artifacts/model', status='READY', status_message='', tags={}, user_id='', version='3'>]"
      ]
     },
     "execution_count": 18,
     "metadata": {},
     "output_type": "execute_result"
    }
   ],
   "source": [
    "client.get_latest_versions(\"duration-prediction\")"
   ]
  },
  {
   "cell_type": "code",
   "execution_count": 19,
   "metadata": {},
   "outputs": [
    {
     "name": "stdout",
     "output_type": "stream",
     "text": [
      "version: 3, stage: None\n"
     ]
    },
    {
     "name": "stderr",
     "output_type": "stream",
     "text": [
      "/tmp/ipykernel_9219/3363948356.py:2: FutureWarning: ``mlflow.tracking.client.MlflowClient.get_latest_versions`` is deprecated since 2.9.0. Model registry stages will be removed in a future major release. To learn more about the deprecation of model registry stages, see our migration guide here: https://mlflow.org/docs/latest/model-registry.html#migrating-from-stages\n",
      "  latest_version = client.get_latest_versions(model_name)\n"
     ]
    }
   ],
   "source": [
    "model_name = \"duration-prediction\"\n",
    "latest_versions = client.get_latest_versions(model_name)\n",
    "\n",
    "for version in latest_versions:\n",
    "    print(f\"version: {version.version}, stage: {version.current_stage}\")"
   ]
  },
  {
   "cell_type": "code",
   "execution_count": 20,
   "metadata": {},
   "outputs": [
    {
     "name": "stderr",
     "output_type": "stream",
     "text": [
      "/tmp/ipykernel_9219/306962077.py:1: FutureWarning: ``mlflow.tracking.client.MlflowClient.transition_model_version_stage`` is deprecated since 2.9.0. Model registry stages will be removed in a future major release. To learn more about the deprecation of model registry stages, see our migration guide here: https://mlflow.org/docs/latest/model-registry.html#migrating-from-stages\n",
      "  client.transition_model_version_stage(\n"
     ]
    },
    {
     "data": {
      "text/plain": [
       "<ModelVersion: aliases=[], creation_timestamp=1730203231277, current_stage='Production', description='', last_updated_timestamp=1730203434091, name='duration-prediction', run_id='99c2c5fe36d04def99e8741c95855b9e', run_link='', source='mlflow-artifacts:/1/99c2c5fe36d04def99e8741c95855b9e/artifacts/model', status='READY', status_message='', tags={}, user_id='', version='3'>"
      ]
     },
     "execution_count": 20,
     "metadata": {},
     "output_type": "execute_result"
    }
   ],
   "source": [
    "client.transition_model_version_stage(\n",
    "    name=model_name,\n",
    "    version=version.version,\n",
    "    stage=\"Production\",\n",
    "    archive_existing_versions=False,\n",
    ")"
   ]
  },
  {
   "cell_type": "code",
   "execution_count": null,
   "metadata": {},
   "outputs": [],
   "source": []
  }
 ],
 "metadata": {
  "kernelspec": {
   "display_name": "Python 3",
   "language": "python",
   "name": "python3"
  },
  "language_info": {
   "codemirror_mode": {
    "name": "ipython",
    "version": 3
   },
   "file_extension": ".py",
   "mimetype": "text/x-python",
   "name": "python",
   "nbconvert_exporter": "python",
   "pygments_lexer": "ipython3",
   "version": "3.9.20"
  }
 },
 "nbformat": 4,
 "nbformat_minor": 2
}
