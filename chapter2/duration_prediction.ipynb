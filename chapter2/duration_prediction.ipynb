{
 "cells": [
  {
   "cell_type": "code",
   "execution_count": 10,
   "id": "b87174f3-08ec-473d-a394-8dec977b683f",
   "metadata": {},
   "outputs": [],
   "source": [
    "import pandas as pd\n",
    "import numpy as np\n",
    "import seaborn as sns\n",
    "import matplotlib.pyplot as plt\n",
    "from sklearn.feature_extraction import DictVectorizer\n",
    "from sklearn.linear_model import LinearRegression, Ridge, Lasso\n",
    "from sklearn.metrics import root_mean_squared_error, r2_score\n",
    "import pickle\n",
    "import mlflow\n",
    "\n",
    "\n",
    "%matplotlib inline"
   ]
  },
  {
   "cell_type": "code",
   "execution_count": 13,
   "id": "736ecb2c",
   "metadata": {},
   "outputs": [
    {
     "name": "stderr",
     "output_type": "stream",
     "text": [
      "2024/10/25 14:11:43 INFO mlflow.tracking.fluent: Experiment with name 'duration-prediction' does not exist. Creating a new experiment.\n"
     ]
    },
    {
     "data": {
      "text/plain": [
       "<Experiment: artifact_location='mlflow-artifacts:/1', creation_time=1729865503894, experiment_id='1', last_update_time=1729865503894, lifecycle_stage='active', name='duration-prediction', tags={}>"
      ]
     },
     "execution_count": 13,
     "metadata": {},
     "output_type": "execute_result"
    }
   ],
   "source": [
    "mlflow.set_tracking_uri('http://127.0.0.1:5000/')\n",
    "mlflow.set_experiment('duration-prediction')"
   ]
  },
  {
   "cell_type": "code",
   "execution_count": 14,
   "id": "2d1e6cba",
   "metadata": {},
   "outputs": [
    {
     "data": {
      "text/html": [
       "<div>\n",
       "<style scoped>\n",
       "    .dataframe tbody tr th:only-of-type {\n",
       "        vertical-align: middle;\n",
       "    }\n",
       "\n",
       "    .dataframe tbody tr th {\n",
       "        vertical-align: top;\n",
       "    }\n",
       "\n",
       "    .dataframe thead th {\n",
       "        text-align: right;\n",
       "    }\n",
       "</style>\n",
       "<table border=\"1\" class=\"dataframe\">\n",
       "  <thead>\n",
       "    <tr style=\"text-align: right;\">\n",
       "      <th></th>\n",
       "      <th>VendorID</th>\n",
       "      <th>tpep_pickup_datetime</th>\n",
       "      <th>tpep_dropoff_datetime</th>\n",
       "      <th>passenger_count</th>\n",
       "      <th>trip_distance</th>\n",
       "      <th>RatecodeID</th>\n",
       "      <th>store_and_fwd_flag</th>\n",
       "      <th>PULocationID</th>\n",
       "      <th>DOLocationID</th>\n",
       "      <th>payment_type</th>\n",
       "      <th>fare_amount</th>\n",
       "      <th>extra</th>\n",
       "      <th>mta_tax</th>\n",
       "      <th>tip_amount</th>\n",
       "      <th>tolls_amount</th>\n",
       "      <th>improvement_surcharge</th>\n",
       "      <th>total_amount</th>\n",
       "      <th>congestion_surcharge</th>\n",
       "      <th>Airport_fee</th>\n",
       "    </tr>\n",
       "  </thead>\n",
       "  <tbody>\n",
       "    <tr>\n",
       "      <th>0</th>\n",
       "      <td>1</td>\n",
       "      <td>2024-07-01 00:34:56</td>\n",
       "      <td>2024-07-01 00:46:49</td>\n",
       "      <td>1.0</td>\n",
       "      <td>3.20</td>\n",
       "      <td>1.0</td>\n",
       "      <td>N</td>\n",
       "      <td>140</td>\n",
       "      <td>79</td>\n",
       "      <td>1</td>\n",
       "      <td>15.6</td>\n",
       "      <td>3.50</td>\n",
       "      <td>0.5</td>\n",
       "      <td>3.50</td>\n",
       "      <td>0.00</td>\n",
       "      <td>1.0</td>\n",
       "      <td>24.10</td>\n",
       "      <td>2.5</td>\n",
       "      <td>0.00</td>\n",
       "    </tr>\n",
       "    <tr>\n",
       "      <th>1</th>\n",
       "      <td>2</td>\n",
       "      <td>2024-06-30 23:48:58</td>\n",
       "      <td>2024-07-01 00:28:04</td>\n",
       "      <td>1.0</td>\n",
       "      <td>19.48</td>\n",
       "      <td>2.0</td>\n",
       "      <td>N</td>\n",
       "      <td>132</td>\n",
       "      <td>113</td>\n",
       "      <td>2</td>\n",
       "      <td>70.0</td>\n",
       "      <td>0.00</td>\n",
       "      <td>0.5</td>\n",
       "      <td>0.00</td>\n",
       "      <td>0.00</td>\n",
       "      <td>1.0</td>\n",
       "      <td>75.75</td>\n",
       "      <td>2.5</td>\n",
       "      <td>1.75</td>\n",
       "    </tr>\n",
       "    <tr>\n",
       "      <th>2</th>\n",
       "      <td>2</td>\n",
       "      <td>2024-07-01 00:23:18</td>\n",
       "      <td>2024-07-01 00:29:51</td>\n",
       "      <td>1.0</td>\n",
       "      <td>1.18</td>\n",
       "      <td>1.0</td>\n",
       "      <td>N</td>\n",
       "      <td>237</td>\n",
       "      <td>145</td>\n",
       "      <td>1</td>\n",
       "      <td>8.6</td>\n",
       "      <td>1.00</td>\n",
       "      <td>0.5</td>\n",
       "      <td>2.72</td>\n",
       "      <td>0.00</td>\n",
       "      <td>1.0</td>\n",
       "      <td>16.32</td>\n",
       "      <td>2.5</td>\n",
       "      <td>0.00</td>\n",
       "    </tr>\n",
       "    <tr>\n",
       "      <th>3</th>\n",
       "      <td>1</td>\n",
       "      <td>2024-07-01 00:10:33</td>\n",
       "      <td>2024-07-01 00:27:31</td>\n",
       "      <td>0.0</td>\n",
       "      <td>9.10</td>\n",
       "      <td>1.0</td>\n",
       "      <td>N</td>\n",
       "      <td>138</td>\n",
       "      <td>164</td>\n",
       "      <td>1</td>\n",
       "      <td>36.6</td>\n",
       "      <td>10.25</td>\n",
       "      <td>0.5</td>\n",
       "      <td>12.05</td>\n",
       "      <td>0.00</td>\n",
       "      <td>1.0</td>\n",
       "      <td>60.40</td>\n",
       "      <td>2.5</td>\n",
       "      <td>1.75</td>\n",
       "    </tr>\n",
       "    <tr>\n",
       "      <th>4</th>\n",
       "      <td>1</td>\n",
       "      <td>2024-07-01 00:07:55</td>\n",
       "      <td>2024-07-01 00:34:34</td>\n",
       "      <td>1.0</td>\n",
       "      <td>17.70</td>\n",
       "      <td>2.0</td>\n",
       "      <td>N</td>\n",
       "      <td>132</td>\n",
       "      <td>263</td>\n",
       "      <td>1</td>\n",
       "      <td>70.0</td>\n",
       "      <td>1.75</td>\n",
       "      <td>0.5</td>\n",
       "      <td>10.00</td>\n",
       "      <td>6.94</td>\n",
       "      <td>1.0</td>\n",
       "      <td>90.19</td>\n",
       "      <td>0.0</td>\n",
       "      <td>1.75</td>\n",
       "    </tr>\n",
       "  </tbody>\n",
       "</table>\n",
       "</div>"
      ],
      "text/plain": [
       "   VendorID tpep_pickup_datetime tpep_dropoff_datetime  passenger_count  \\\n",
       "0         1  2024-07-01 00:34:56   2024-07-01 00:46:49              1.0   \n",
       "1         2  2024-06-30 23:48:58   2024-07-01 00:28:04              1.0   \n",
       "2         2  2024-07-01 00:23:18   2024-07-01 00:29:51              1.0   \n",
       "3         1  2024-07-01 00:10:33   2024-07-01 00:27:31              0.0   \n",
       "4         1  2024-07-01 00:07:55   2024-07-01 00:34:34              1.0   \n",
       "\n",
       "   trip_distance  RatecodeID store_and_fwd_flag  PULocationID  DOLocationID  \\\n",
       "0           3.20         1.0                  N           140            79   \n",
       "1          19.48         2.0                  N           132           113   \n",
       "2           1.18         1.0                  N           237           145   \n",
       "3           9.10         1.0                  N           138           164   \n",
       "4          17.70         2.0                  N           132           263   \n",
       "\n",
       "   payment_type  fare_amount  extra  mta_tax  tip_amount  tolls_amount  \\\n",
       "0             1         15.6   3.50      0.5        3.50          0.00   \n",
       "1             2         70.0   0.00      0.5        0.00          0.00   \n",
       "2             1          8.6   1.00      0.5        2.72          0.00   \n",
       "3             1         36.6  10.25      0.5       12.05          0.00   \n",
       "4             1         70.0   1.75      0.5       10.00          6.94   \n",
       "\n",
       "   improvement_surcharge  total_amount  congestion_surcharge  Airport_fee  \n",
       "0                    1.0         24.10                   2.5         0.00  \n",
       "1                    1.0         75.75                   2.5         1.75  \n",
       "2                    1.0         16.32                   2.5         0.00  \n",
       "3                    1.0         60.40                   2.5         1.75  \n",
       "4                    1.0         90.19                   0.0         1.75  "
      ]
     },
     "execution_count": 14,
     "metadata": {},
     "output_type": "execute_result"
    }
   ],
   "source": [
    "df = pd.read_parquet('../data/yellow_tripdata_2024-07.parquet')\n",
    "df.head()\n"
   ]
  },
  {
   "cell_type": "markdown",
   "id": "c841d580",
   "metadata": {},
   "source": [
    "Read Data"
   ]
  },
  {
   "cell_type": "code",
   "execution_count": 15,
   "id": "7c245eab",
   "metadata": {},
   "outputs": [],
   "source": [
    "categories = ['PULocationID','DOLocationID']\n",
    "numerics = ['trip_distance','passenger_count','fare_amount','tip_amount','congestion_surcharge','Airport_fee','tpep_pickup_datetime']\n",
    "\n",
    "def read_data(filename):\n",
    "    df = pd.read_parquet(filename)\n",
    "    df['tpep_pickup_datetime'] = pd.to_datetime(df['tpep_pickup_datetime'])\n",
    "    df['tpep_dropoff_datetime'] = pd.to_datetime(df['tpep_dropoff_datetime'])\n",
    "\n",
    "    df['duration']= df['tpep_dropoff_datetime'] - df['tpep_pickup_datetime']\n",
    "    df['duration'] = df['duration'].map(lambda x: x.total_seconds()/60)\n",
    "    \n",
    "    df = df[(df['duration'] >= 0) & (df['duration'] <= 60)  ]\n",
    "    df[categories] = df[categories].astype(object)\n",
    "\n",
    "    df['tpep_pickup_datetime'] = df['tpep_pickup_datetime'].astype(int)\n",
    "\n",
    "    prepped = df[categories + numerics + ['duration']].dropna()\n",
    "    return prepped"
   ]
  },
  {
   "cell_type": "code",
   "execution_count": 16,
   "id": "d59ed227",
   "metadata": {},
   "outputs": [],
   "source": [
    "train_data = read_data('../data/yellow_tripdata_2024-07.parquet')"
   ]
  },
  {
   "cell_type": "code",
   "execution_count": 17,
   "id": "4862f469-15a0-4788-a7a0-6f8f3798f38f",
   "metadata": {},
   "outputs": [
    {
     "data": {
      "text/plain": [
       "count    2.744683e+06\n",
       "mean     1.543395e+01\n",
       "std      1.132925e+01\n",
       "min      0.000000e+00\n",
       "50%      1.233333e+01\n",
       "95%      4.000000e+01\n",
       "99%      5.395300e+01\n",
       "max      6.000000e+01\n",
       "Name: duration, dtype: float64"
      ]
     },
     "execution_count": 17,
     "metadata": {},
     "output_type": "execute_result"
    }
   ],
   "source": [
    "train_data['duration'].describe(percentiles = [.5,.95,.99])"
   ]
  },
  {
   "cell_type": "code",
   "execution_count": 24,
   "id": "8a546d6c",
   "metadata": {},
   "outputs": [
    {
     "data": {
      "text/html": [
       "<div>\n",
       "<style scoped>\n",
       "    .dataframe tbody tr th:only-of-type {\n",
       "        vertical-align: middle;\n",
       "    }\n",
       "\n",
       "    .dataframe tbody tr th {\n",
       "        vertical-align: top;\n",
       "    }\n",
       "\n",
       "    .dataframe thead th {\n",
       "        text-align: right;\n",
       "    }\n",
       "</style>\n",
       "<table border=\"1\" class=\"dataframe\">\n",
       "  <thead>\n",
       "    <tr style=\"text-align: right;\">\n",
       "      <th></th>\n",
       "      <th>PULocationID</th>\n",
       "      <th>DOLocationID</th>\n",
       "      <th>trip_distance</th>\n",
       "      <th>passenger_count</th>\n",
       "      <th>fare_amount</th>\n",
       "      <th>tip_amount</th>\n",
       "      <th>congestion_surcharge</th>\n",
       "      <th>Airport_fee</th>\n",
       "      <th>tpep_pickup_datetime</th>\n",
       "      <th>duration</th>\n",
       "    </tr>\n",
       "  </thead>\n",
       "  <tbody>\n",
       "    <tr>\n",
       "      <th>0</th>\n",
       "      <td>140</td>\n",
       "      <td>79</td>\n",
       "      <td>3.20</td>\n",
       "      <td>1.0</td>\n",
       "      <td>15.6</td>\n",
       "      <td>3.50</td>\n",
       "      <td>2.5</td>\n",
       "      <td>0.00</td>\n",
       "      <td>1719794096000000</td>\n",
       "      <td>11.883333</td>\n",
       "    </tr>\n",
       "    <tr>\n",
       "      <th>1</th>\n",
       "      <td>132</td>\n",
       "      <td>113</td>\n",
       "      <td>19.48</td>\n",
       "      <td>1.0</td>\n",
       "      <td>70.0</td>\n",
       "      <td>0.00</td>\n",
       "      <td>2.5</td>\n",
       "      <td>1.75</td>\n",
       "      <td>1719791338000000</td>\n",
       "      <td>39.100000</td>\n",
       "    </tr>\n",
       "    <tr>\n",
       "      <th>2</th>\n",
       "      <td>237</td>\n",
       "      <td>145</td>\n",
       "      <td>1.18</td>\n",
       "      <td>1.0</td>\n",
       "      <td>8.6</td>\n",
       "      <td>2.72</td>\n",
       "      <td>2.5</td>\n",
       "      <td>0.00</td>\n",
       "      <td>1719793398000000</td>\n",
       "      <td>6.550000</td>\n",
       "    </tr>\n",
       "    <tr>\n",
       "      <th>3</th>\n",
       "      <td>138</td>\n",
       "      <td>164</td>\n",
       "      <td>9.10</td>\n",
       "      <td>0.0</td>\n",
       "      <td>36.6</td>\n",
       "      <td>12.05</td>\n",
       "      <td>2.5</td>\n",
       "      <td>1.75</td>\n",
       "      <td>1719792633000000</td>\n",
       "      <td>16.966667</td>\n",
       "    </tr>\n",
       "    <tr>\n",
       "      <th>4</th>\n",
       "      <td>132</td>\n",
       "      <td>263</td>\n",
       "      <td>17.70</td>\n",
       "      <td>1.0</td>\n",
       "      <td>70.0</td>\n",
       "      <td>10.00</td>\n",
       "      <td>0.0</td>\n",
       "      <td>1.75</td>\n",
       "      <td>1719792475000000</td>\n",
       "      <td>26.650000</td>\n",
       "    </tr>\n",
       "  </tbody>\n",
       "</table>\n",
       "</div>"
      ],
      "text/plain": [
       "  PULocationID DOLocationID  trip_distance  passenger_count  fare_amount  \\\n",
       "0          140           79           3.20              1.0         15.6   \n",
       "1          132          113          19.48              1.0         70.0   \n",
       "2          237          145           1.18              1.0          8.6   \n",
       "3          138          164           9.10              0.0         36.6   \n",
       "4          132          263          17.70              1.0         70.0   \n",
       "\n",
       "   tip_amount  congestion_surcharge  Airport_fee  tpep_pickup_datetime  \\\n",
       "0        3.50                   2.5         0.00      1719794096000000   \n",
       "1        0.00                   2.5         1.75      1719791338000000   \n",
       "2        2.72                   2.5         0.00      1719793398000000   \n",
       "3       12.05                   2.5         1.75      1719792633000000   \n",
       "4       10.00                   0.0         1.75      1719792475000000   \n",
       "\n",
       "    duration  \n",
       "0  11.883333  \n",
       "1  39.100000  \n",
       "2   6.550000  \n",
       "3  16.966667  \n",
       "4  26.650000  "
      ]
     },
     "execution_count": 24,
     "metadata": {},
     "output_type": "execute_result"
    }
   ],
   "source": [
    "train_data.head()"
   ]
  },
  {
   "cell_type": "markdown",
   "id": "715b4d46",
   "metadata": {},
   "source": [
    "Training pipeline\n"
   ]
  },
  {
   "cell_type": "code",
   "execution_count": 25,
   "id": "425fccf2-cbea-48d5-9be4-f93e22a988fe",
   "metadata": {},
   "outputs": [],
   "source": [
    "dv = DictVectorizer()\n",
    "x_train = dv.fit_transform(train_data[categories + numerics].to_dict(orient='records'))"
   ]
  },
  {
   "cell_type": "code",
   "execution_count": 26,
   "id": "9ce2a134-bed6-4083-94f6-5832c1f17d2a",
   "metadata": {},
   "outputs": [
    {
     "data": {
      "text/plain": [
       "['Airport_fee',\n",
       " 'DOLocationID',\n",
       " 'PULocationID',\n",
       " 'congestion_surcharge',\n",
       " 'fare_amount',\n",
       " 'passenger_count',\n",
       " 'tip_amount',\n",
       " 'tpep_pickup_datetime',\n",
       " 'trip_distance']"
      ]
     },
     "execution_count": 26,
     "metadata": {},
     "output_type": "execute_result"
    }
   ],
   "source": [
    "dv.feature_names_"
   ]
  },
  {
   "cell_type": "code",
   "execution_count": 27,
   "id": "f226d390-180c-4e6d-91a4-7c539c3583dc",
   "metadata": {},
   "outputs": [
    {
     "data": {
      "text/plain": [
       "array([11.88333333, 39.1       ,  6.55      , ...,  6.73333333,\n",
       "       23.28333333, 10.65      ])"
      ]
     },
     "execution_count": 27,
     "metadata": {},
     "output_type": "execute_result"
    }
   ],
   "source": [
    "target = 'duration'\n",
    "y_train = train_data[target].values\n",
    "y_train\n"
   ]
  },
  {
   "cell_type": "code",
   "execution_count": 28,
   "id": "21dce80e",
   "metadata": {},
   "outputs": [],
   "source": [
    "test_data = read_data('../data/yellow_tripdata_2024-08.parquet')\n",
    "x_test_dict = test_data[categories + numerics].to_dict(orient='records')\n",
    "x_test = dv.transform(x_test_dict)\n",
    "y_test = test_data[target].values"
   ]
  },
  {
   "cell_type": "markdown",
   "id": "a11f5963",
   "metadata": {},
   "source": [
    "Linear Regression"
   ]
  },
  {
   "cell_type": "code",
   "execution_count": 30,
   "id": "168070e9",
   "metadata": {},
   "outputs": [
    {
     "data": {
      "text/plain": [
       "'/home/codespace/mlops-zoomcamp/chapter2'"
      ]
     },
     "execution_count": 30,
     "metadata": {},
     "output_type": "execute_result"
    }
   ],
   "source": [
    "%pwd"
   ]
  },
  {
   "cell_type": "code",
   "execution_count": 36,
   "id": "5c3ea8a9-b2bc-4563-ae75-ab5f426149a8",
   "metadata": {},
   "outputs": [
    {
     "name": "stderr",
     "output_type": "stream",
     "text": [
      "2024/10/25 14:37:32 INFO mlflow.tracking._tracking_service.client: 🏃 View run efficient-whale-804 at: http://127.0.0.1:5000/#/experiments/1/runs/b896e292460c47e3b8072626e4027c28.\n",
      "2024/10/25 14:37:32 INFO mlflow.tracking._tracking_service.client: 🧪 View experiment at: http://127.0.0.1:5000/#/experiments/1.\n"
     ]
    },
    {
     "name": "stdout",
     "output_type": "stream",
     "text": [
      "The model has an average error of 11.40 minutes,while explaining -0.00 of the variance\n"
     ]
    }
   ],
   "source": [
    "with mlflow.start_run():\n",
    "    mlflow.set_tag('developer',value='Derek')\n",
    "    mlflow.set_tag('model',value='linear_regression')\n",
    "\n",
    "    \n",
    "    lm = LinearRegression()\n",
    "    lm.fit(x_train, y_train)\n",
    "    preds = lm.predict(x_test)\n",
    "    rmse= root_mean_squared_error(y_test,preds)\n",
    "    r2 = r2_score(y_test,preds)\n",
    "    print(f'The model has an average error of {rmse:.2f} minutes,while explaining {r2:.2f} of the variance')\n",
    "    mlflow.log_params(params=lm.get_params())\n",
    "    mlflow.log_metric('rmse',rmse)\n",
    "    mlflow.log_metric('r2',r2)\n",
    "    mlflow.log_artifact('../models/intro_lm.bin','model')\n",
    "\n"
   ]
  },
  {
   "cell_type": "code",
   "execution_count": 14,
   "id": "1fa77c4c",
   "metadata": {},
   "outputs": [
    {
     "data": {
      "text/html": [
       "<div>\n",
       "<style scoped>\n",
       "    .dataframe tbody tr th:only-of-type {\n",
       "        vertical-align: middle;\n",
       "    }\n",
       "\n",
       "    .dataframe tbody tr th {\n",
       "        vertical-align: top;\n",
       "    }\n",
       "\n",
       "    .dataframe thead th {\n",
       "        text-align: right;\n",
       "    }\n",
       "</style>\n",
       "<table border=\"1\" class=\"dataframe\">\n",
       "  <thead>\n",
       "    <tr style=\"text-align: right;\">\n",
       "      <th></th>\n",
       "      <th>actual</th>\n",
       "      <th>predicted</th>\n",
       "      <th>residual</th>\n",
       "      <th>abs_resid</th>\n",
       "    </tr>\n",
       "  </thead>\n",
       "  <tbody>\n",
       "    <tr>\n",
       "      <th>12705</th>\n",
       "      <td>60.000000</td>\n",
       "      <td>15.637937</td>\n",
       "      <td>44.362063</td>\n",
       "      <td>44.362063</td>\n",
       "    </tr>\n",
       "    <tr>\n",
       "      <th>21149</th>\n",
       "      <td>60.000000</td>\n",
       "      <td>15.639493</td>\n",
       "      <td>44.360507</td>\n",
       "      <td>44.360507</td>\n",
       "    </tr>\n",
       "    <tr>\n",
       "      <th>45774</th>\n",
       "      <td>60.000000</td>\n",
       "      <td>15.641595</td>\n",
       "      <td>44.358405</td>\n",
       "      <td>44.358405</td>\n",
       "    </tr>\n",
       "    <tr>\n",
       "      <th>45648</th>\n",
       "      <td>60.000000</td>\n",
       "      <td>15.641644</td>\n",
       "      <td>44.358356</td>\n",
       "      <td>44.358356</td>\n",
       "    </tr>\n",
       "    <tr>\n",
       "      <th>13525</th>\n",
       "      <td>59.983333</td>\n",
       "      <td>15.637853</td>\n",
       "      <td>44.345480</td>\n",
       "      <td>44.345480</td>\n",
       "    </tr>\n",
       "    <tr>\n",
       "      <th>...</th>\n",
       "      <td>...</td>\n",
       "      <td>...</td>\n",
       "      <td>...</td>\n",
       "      <td>...</td>\n",
       "    </tr>\n",
       "    <tr>\n",
       "      <th>2539626</th>\n",
       "      <td>16.033333</td>\n",
       "      <td>16.033310</td>\n",
       "      <td>0.000023</td>\n",
       "      <td>0.000023</td>\n",
       "    </tr>\n",
       "    <tr>\n",
       "      <th>899911</th>\n",
       "      <td>15.766667</td>\n",
       "      <td>15.766683</td>\n",
       "      <td>-0.000016</td>\n",
       "      <td>0.000016</td>\n",
       "    </tr>\n",
       "    <tr>\n",
       "      <th>2537592</th>\n",
       "      <td>16.033333</td>\n",
       "      <td>16.033319</td>\n",
       "      <td>0.000014</td>\n",
       "      <td>0.000014</td>\n",
       "    </tr>\n",
       "    <tr>\n",
       "      <th>1708577</th>\n",
       "      <td>15.900000</td>\n",
       "      <td>15.899988</td>\n",
       "      <td>0.000012</td>\n",
       "      <td>0.000012</td>\n",
       "    </tr>\n",
       "    <tr>\n",
       "      <th>1065089</th>\n",
       "      <td>15.800000</td>\n",
       "      <td>15.799991</td>\n",
       "      <td>0.000009</td>\n",
       "      <td>0.000009</td>\n",
       "    </tr>\n",
       "  </tbody>\n",
       "</table>\n",
       "<p>2662498 rows × 4 columns</p>\n",
       "</div>"
      ],
      "text/plain": [
       "            actual  predicted   residual  abs_resid\n",
       "12705    60.000000  15.637937  44.362063  44.362063\n",
       "21149    60.000000  15.639493  44.360507  44.360507\n",
       "45774    60.000000  15.641595  44.358405  44.358405\n",
       "45648    60.000000  15.641644  44.358356  44.358356\n",
       "13525    59.983333  15.637853  44.345480  44.345480\n",
       "...            ...        ...        ...        ...\n",
       "2539626  16.033333  16.033310   0.000023   0.000023\n",
       "899911   15.766667  15.766683  -0.000016   0.000016\n",
       "2537592  16.033333  16.033319   0.000014   0.000014\n",
       "1708577  15.900000  15.899988   0.000012   0.000012\n",
       "1065089  15.800000  15.799991   0.000009   0.000009\n",
       "\n",
       "[2662498 rows x 4 columns]"
      ]
     },
     "execution_count": 14,
     "metadata": {},
     "output_type": "execute_result"
    }
   ],
   "source": [
    "resids = pd.DataFrame({'actual':y_test,'predicted':preds})\n",
    "resids['residual'] = resids['actual'] - resids['predicted']\n",
    "resids['abs_resid'] = resids['residual'].abs()\n",
    "resids.sort_values('abs_resid',ascending=False)"
   ]
  },
  {
   "cell_type": "code",
   "execution_count": 16,
   "id": "c1ad195c",
   "metadata": {},
   "outputs": [],
   "source": [
    "with open('../models/intro_lm.bin','wb') as f_out:\n",
    "    pickle.dump((dv,lm),f_out)"
   ]
  },
  {
   "cell_type": "markdown",
   "id": "5cb42b4d",
   "metadata": {},
   "source": [
    "Ridge Regression"
   ]
  },
  {
   "cell_type": "code",
   "execution_count": 40,
   "id": "97178e14",
   "metadata": {},
   "outputs": [
    {
     "name": "stderr",
     "output_type": "stream",
     "text": [
      "2024/10/25 14:44:35 INFO mlflow.tracking._tracking_service.client: 🏃 View run likeable-fawn-165 at: http://127.0.0.1:5000/#/experiments/1/runs/3581f045c62f4636b4d0c62d918fb68b.\n",
      "2024/10/25 14:44:35 INFO mlflow.tracking._tracking_service.client: 🧪 View experiment at: http://127.0.0.1:5000/#/experiments/1.\n"
     ]
    },
    {
     "name": "stdout",
     "output_type": "stream",
     "text": [
      "The model has an average error of 11.40 minutes,while explaining -0.00 of the variance\n"
     ]
    }
   ],
   "source": [
    "with mlflow.start_run():\n",
    "    mlflow.set_tag('developer',value='Derek')\n",
    "    mlflow.set_tag('model',value='ridge_regression')\n",
    "    alpha = 0.03\n",
    "    mlflow.log_param('alpha',alpha)\n",
    "\n",
    "    ridge = Ridge(alpha=alpha)\n",
    "    ridge.fit(x_train,y_train)\n",
    "    preds = ridge.predict(x_test)\n",
    "    rmse= root_mean_squared_error(y_test,preds)\n",
    "    r2 = r2_score(y_test,preds)\n",
    "    print(f'The model has an average error of {rmse:.2f} minutes,while explaining {r2:.2f} of the variance')\n",
    "    mlflow.log_params(params=ridge.get_params())\n",
    "    mlflow.log_metric('rmse',rmse)\n",
    "    mlflow.log_metric('r2',r2)\n",
    "    mlflow.log_artifact('../models/intro_ridge.bin','model')"
   ]
  },
  {
   "cell_type": "code",
   "execution_count": 19,
   "id": "438909d4",
   "metadata": {},
   "outputs": [],
   "source": [
    "with open('../models/intro_ridge.bin','wb') as f_out:\n",
    "    pickle.dump((dv,ridge),f_out)"
   ]
  },
  {
   "cell_type": "markdown",
   "id": "ebaeae3f",
   "metadata": {},
   "source": [
    "Lasso Regression"
   ]
  },
  {
   "cell_type": "code",
   "execution_count": 41,
   "id": "28d6c567",
   "metadata": {},
   "outputs": [
    {
     "name": "stderr",
     "output_type": "stream",
     "text": [
      "2024/10/25 14:55:16 INFO mlflow.tracking._tracking_service.client: 🏃 View run bright-lark-796 at: http://127.0.0.1:5000/#/experiments/1/runs/c59b56adb07846229455b4490c0b68d0.\n",
      "2024/10/25 14:55:16 INFO mlflow.tracking._tracking_service.client: 🧪 View experiment at: http://127.0.0.1:5000/#/experiments/1.\n"
     ]
    },
    {
     "name": "stdout",
     "output_type": "stream",
     "text": [
      "The model has an average error of 7.97 minutes,while explaining 0.51 of the variance\n"
     ]
    }
   ],
   "source": [
    "with mlflow.start_run():    \n",
    "    mlflow.set_tag('developer',value='Derek')\n",
    "    mlflow.set_tag('model',value='lasso_regression')\n",
    "    alpha = 0.03\n",
    "    mlflow.log_param('alpha',alpha)\n",
    "\n",
    "    lasso = Lasso(alpha=alpha)\n",
    "    lasso.fit(x_train,y_train)\n",
    "    preds = lasso.predict(x_test)\n",
    "    rmse= root_mean_squared_error(y_test,preds)\n",
    "    r2 = r2_score(y_test,preds)\n",
    "    print(f'The model has an average error of {rmse:.2f} minutes,while explaining {r2:.2f} of the variance')\n",
    "    mlflow.log_params(params=lasso.get_params())\n",
    "    mlflow.log_metric('rmse',rmse)\n",
    "    mlflow.log_metric('r2',r2)\n",
    "    mlflow.log_artifact('../models/intro_lasso.bin','model')"
   ]
  },
  {
   "cell_type": "code",
   "execution_count": 42,
   "id": "5379d993",
   "metadata": {},
   "outputs": [],
   "source": [
    "with open('../models/intro_lasso.bin','wb') as f_out:\n",
    "    pickle.dump((dv,lasso),f_out)"
   ]
  },
  {
   "cell_type": "markdown",
   "id": "f8f42eaf",
   "metadata": {},
   "source": [
    "# Hyperparameter tuning with mlflow and hyperopt"
   ]
  },
  {
   "cell_type": "code",
   "execution_count": 1,
   "id": "74bd1746",
   "metadata": {},
   "outputs": [],
   "source": [
    "import xgboost as xgb\n",
    "from hyperopt import fmin, tpe, hp, STATUS_OK, Trials\n",
    "from hyperopt.pyll.base import scope"
   ]
  },
  {
   "cell_type": "code",
   "execution_count": null,
   "id": "12816bc5",
   "metadata": {},
   "outputs": [],
   "source": [
    "print('kk')"
   ]
  },
  {
   "cell_type": "code",
   "execution_count": null,
   "id": "105dc7e0",
   "metadata": {},
   "outputs": [],
   "source": []
  }
 ],
 "metadata": {
  "kernelspec": {
   "display_name": "Python 3 (ipykernel)",
   "language": "python",
   "name": "python3"
  }
 },
 "nbformat": 4,
 "nbformat_minor": 5
}
